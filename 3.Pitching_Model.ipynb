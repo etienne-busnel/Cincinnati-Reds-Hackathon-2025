{
 "cells": [
  {
   "cell_type": "code",
   "execution_count": 496,
   "id": "06239e5f-a6f7-4bfb-b055-4b05bf552f4a",
   "metadata": {},
   "outputs": [],
   "source": [
    "#import standard data analysis libraries\n",
    "import pandas as pd\n",
    "import numpy as np\n",
    "import matplotlib.pyplot as plt\n",
    "import seaborn as sns\n",
    "from scipy import stats"
   ]
  },
  {
   "cell_type": "code",
   "execution_count": 497,
   "id": "b391b929-07de-4195-8501-1b19b090b233",
   "metadata": {},
   "outputs": [],
   "source": [
    "df_pitching = pd.read_csv('pitcher_features.csv')"
   ]
  },
  {
   "cell_type": "code",
   "execution_count": 498,
   "id": "c6d282a2-52e1-413e-b1f4-f31b1a0b364d",
   "metadata": {},
   "outputs": [
    {
     "data": {
      "text/html": [
       "<div>\n",
       "<style scoped>\n",
       "    .dataframe tbody tr th:only-of-type {\n",
       "        vertical-align: middle;\n",
       "    }\n",
       "\n",
       "    .dataframe tbody tr th {\n",
       "        vertical-align: top;\n",
       "    }\n",
       "\n",
       "    .dataframe thead th {\n",
       "        text-align: right;\n",
       "    }\n",
       "</style>\n",
       "<table border=\"1\" class=\"dataframe\">\n",
       "  <thead>\n",
       "    <tr style=\"text-align: right;\">\n",
       "      <th></th>\n",
       "      <th>Unnamed: 0</th>\n",
       "      <th>total_bf</th>\n",
       "      <th>age</th>\n",
       "      <th>years_after_28</th>\n",
       "      <th>primary_position</th>\n",
       "      <th>throws</th>\n",
       "      <th>sp_pct_</th>\n",
       "      <th>total_bf_</th>\n",
       "      <th>sp_pct</th>\n",
       "      <th>whip_reg</th>\n",
       "      <th>...</th>\n",
       "      <th>fly_balls_ratio_pitcher_reg</th>\n",
       "      <th>ground_balls_ratio_pitcher_reg</th>\n",
       "      <th>line_drives_ratio_pitcher_reg</th>\n",
       "      <th>popups_ratio_pitcher_reg</th>\n",
       "      <th>hr_fb_pct_pitcher_reg</th>\n",
       "      <th>avg_bf_per_outing_reg</th>\n",
       "      <th>pitcher_avg_xwoba_reg</th>\n",
       "      <th>pitcher_avg_woba_reg</th>\n",
       "      <th>zone_chase_pct_reg</th>\n",
       "      <th>avg_fb_vel_reg</th>\n",
       "    </tr>\n",
       "  </thead>\n",
       "  <tbody>\n",
       "    <tr>\n",
       "      <th>0</th>\n",
       "      <td>0</td>\n",
       "      <td>0.0</td>\n",
       "      <td>23.0</td>\n",
       "      <td>0.0</td>\n",
       "      <td>reliever</td>\n",
       "      <td>R</td>\n",
       "      <td>0.000000</td>\n",
       "      <td>56.250</td>\n",
       "      <td>2.883527</td>\n",
       "      <td>1.634001</td>\n",
       "      <td>...</td>\n",
       "      <td>1.194588</td>\n",
       "      <td>1.344661</td>\n",
       "      <td>1.177892</td>\n",
       "      <td>1.049938</td>\n",
       "      <td>0.207623</td>\n",
       "      <td>3.706988</td>\n",
       "      <td>0.390563</td>\n",
       "      <td>0.355679</td>\n",
       "      <td>0.616499</td>\n",
       "      <td>92.973393</td>\n",
       "    </tr>\n",
       "    <tr>\n",
       "      <th>1</th>\n",
       "      <td>1</td>\n",
       "      <td>218.0</td>\n",
       "      <td>29.0</td>\n",
       "      <td>1.0</td>\n",
       "      <td>reliever</td>\n",
       "      <td>L</td>\n",
       "      <td>0.000000</td>\n",
       "      <td>26.625</td>\n",
       "      <td>2.883527</td>\n",
       "      <td>1.148660</td>\n",
       "      <td>...</td>\n",
       "      <td>1.305724</td>\n",
       "      <td>1.667525</td>\n",
       "      <td>1.273387</td>\n",
       "      <td>0.254821</td>\n",
       "      <td>0.219309</td>\n",
       "      <td>2.875195</td>\n",
       "      <td>0.349642</td>\n",
       "      <td>0.292201</td>\n",
       "      <td>0.627072</td>\n",
       "      <td>93.001101</td>\n",
       "    </tr>\n",
       "    <tr>\n",
       "      <th>2</th>\n",
       "      <td>2</td>\n",
       "      <td>809.0</td>\n",
       "      <td>29.0</td>\n",
       "      <td>1.0</td>\n",
       "      <td>starter</td>\n",
       "      <td>L</td>\n",
       "      <td>100.000000</td>\n",
       "      <td>731.000</td>\n",
       "      <td>95.853353</td>\n",
       "      <td>1.254859</td>\n",
       "      <td>...</td>\n",
       "      <td>3.804790</td>\n",
       "      <td>20.124974</td>\n",
       "      <td>5.473928</td>\n",
       "      <td>1.082276</td>\n",
       "      <td>0.215285</td>\n",
       "      <td>13.940916</td>\n",
       "      <td>0.324974</td>\n",
       "      <td>0.289439</td>\n",
       "      <td>0.635585</td>\n",
       "      <td>87.752936</td>\n",
       "    </tr>\n",
       "    <tr>\n",
       "      <th>3</th>\n",
       "      <td>3</td>\n",
       "      <td>278.0</td>\n",
       "      <td>28.0</td>\n",
       "      <td>0.0</td>\n",
       "      <td>reliever</td>\n",
       "      <td>R</td>\n",
       "      <td>6.711409</td>\n",
       "      <td>241.750</td>\n",
       "      <td>2.883527</td>\n",
       "      <td>1.019444</td>\n",
       "      <td>...</td>\n",
       "      <td>1.048302</td>\n",
       "      <td>1.085554</td>\n",
       "      <td>1.044157</td>\n",
       "      <td>1.012396</td>\n",
       "      <td>0.095694</td>\n",
       "      <td>4.561512</td>\n",
       "      <td>0.345491</td>\n",
       "      <td>0.269180</td>\n",
       "      <td>0.630207</td>\n",
       "      <td>96.555288</td>\n",
       "    </tr>\n",
       "    <tr>\n",
       "      <th>4</th>\n",
       "      <td>4</td>\n",
       "      <td>282.0</td>\n",
       "      <td>28.0</td>\n",
       "      <td>0.0</td>\n",
       "      <td>reliever</td>\n",
       "      <td>R</td>\n",
       "      <td>0.000000</td>\n",
       "      <td>60.625</td>\n",
       "      <td>2.883527</td>\n",
       "      <td>2.342864</td>\n",
       "      <td>...</td>\n",
       "      <td>1.181615</td>\n",
       "      <td>1.321683</td>\n",
       "      <td>1.166032</td>\n",
       "      <td>1.046609</td>\n",
       "      <td>0.320766</td>\n",
       "      <td>4.755094</td>\n",
       "      <td>0.367187</td>\n",
       "      <td>0.408527</td>\n",
       "      <td>0.591293</td>\n",
       "      <td>95.522507</td>\n",
       "    </tr>\n",
       "  </tbody>\n",
       "</table>\n",
       "<p>5 rows × 26 columns</p>\n",
       "</div>"
      ],
      "text/plain": [
       "   Unnamed: 0  total_bf   age  years_after_28 primary_position throws  \\\n",
       "0           0       0.0  23.0             0.0         reliever      R   \n",
       "1           1     218.0  29.0             1.0         reliever      L   \n",
       "2           2     809.0  29.0             1.0          starter      L   \n",
       "3           3     278.0  28.0             0.0         reliever      R   \n",
       "4           4     282.0  28.0             0.0         reliever      R   \n",
       "\n",
       "      sp_pct_  total_bf_     sp_pct  whip_reg  ...  \\\n",
       "0    0.000000     56.250   2.883527  1.634001  ...   \n",
       "1    0.000000     26.625   2.883527  1.148660  ...   \n",
       "2  100.000000    731.000  95.853353  1.254859  ...   \n",
       "3    6.711409    241.750   2.883527  1.019444  ...   \n",
       "4    0.000000     60.625   2.883527  2.342864  ...   \n",
       "\n",
       "   fly_balls_ratio_pitcher_reg  ground_balls_ratio_pitcher_reg  \\\n",
       "0                     1.194588                        1.344661   \n",
       "1                     1.305724                        1.667525   \n",
       "2                     3.804790                       20.124974   \n",
       "3                     1.048302                        1.085554   \n",
       "4                     1.181615                        1.321683   \n",
       "\n",
       "   line_drives_ratio_pitcher_reg  popups_ratio_pitcher_reg  \\\n",
       "0                       1.177892                  1.049938   \n",
       "1                       1.273387                  0.254821   \n",
       "2                       5.473928                  1.082276   \n",
       "3                       1.044157                  1.012396   \n",
       "4                       1.166032                  1.046609   \n",
       "\n",
       "   hr_fb_pct_pitcher_reg  avg_bf_per_outing_reg  pitcher_avg_xwoba_reg  \\\n",
       "0               0.207623               3.706988               0.390563   \n",
       "1               0.219309               2.875195               0.349642   \n",
       "2               0.215285              13.940916               0.324974   \n",
       "3               0.095694               4.561512               0.345491   \n",
       "4               0.320766               4.755094               0.367187   \n",
       "\n",
       "   pitcher_avg_woba_reg  zone_chase_pct_reg  avg_fb_vel_reg  \n",
       "0              0.355679            0.616499       92.973393  \n",
       "1              0.292201            0.627072       93.001101  \n",
       "2              0.289439            0.635585       87.752936  \n",
       "3              0.269180            0.630207       96.555288  \n",
       "4              0.408527            0.591293       95.522507  \n",
       "\n",
       "[5 rows x 26 columns]"
      ]
     },
     "execution_count": 498,
     "metadata": {},
     "output_type": "execute_result"
    }
   ],
   "source": [
    "df_pitching.head()"
   ]
  },
  {
   "cell_type": "code",
   "execution_count": 499,
   "id": "4bcc1ebe-aa5f-40d7-86c5-27b69c503216",
   "metadata": {},
   "outputs": [],
   "source": [
    "#drop columns not used in the model\n",
    "df_pitching.drop(columns=['Unnamed: 0','primary_position','sp_pct','babip_pitcher_reg','years_after_28','pitcher_avg_exp_ba_reg','hr_fb_pct_pitcher_reg','throws'], inplace=True)"
   ]
  },
  {
   "cell_type": "code",
   "execution_count": 500,
   "id": "d2193ea7-b6b5-45e0-a9d4-6a6cc5441316",
   "metadata": {},
   "outputs": [],
   "source": [
    "#!pip install lazypredict\n",
    "from sklearn.model_selection import train_test_split\n",
    "from sklearn.linear_model import ElasticNetCV\n",
    "from sklearn.preprocessing import StandardScaler\n",
    "from sklearn.metrics import mean_squared_error, r2_score"
   ]
  },
  {
   "cell_type": "code",
   "execution_count": 501,
   "id": "a847ec74-d024-4093-8089-07043b3ac86e",
   "metadata": {},
   "outputs": [],
   "source": [
    "X = df_pitching.drop(columns='total_bf')\n",
    "y = df_pitching['total_bf']"
   ]
  },
  {
   "cell_type": "code",
   "execution_count": 502,
   "id": "6b303a0a-342d-48c7-b3bb-696ac5dc1a50",
   "metadata": {},
   "outputs": [],
   "source": [
    "X_train, X_test, y_train, y_test = train_test_split(X, y, test_size=0.3, random_state=42)"
   ]
  },
  {
   "cell_type": "code",
   "execution_count": 503,
   "id": "e8f49173-5807-4327-ad9b-1dd727804e44",
   "metadata": {},
   "outputs": [],
   "source": [
    "# Scale features\n",
    "numeric_cols = X_train.select_dtypes(include=np.number).columns\n",
    "\n",
    "scaler = StandardScaler()\n",
    "X_train[numeric_cols] = scaler.fit_transform(X_train[numeric_cols])\n",
    "X_test[numeric_cols] = scaler.transform(X_test[numeric_cols])"
   ]
  },
  {
   "cell_type": "code",
   "execution_count": 504,
   "id": "afef850d-cd3a-49a6-8e22-ffdf1736971d",
   "metadata": {},
   "outputs": [],
   "source": [
    "#convert categorical data\n",
    "X_train = pd.get_dummies(X_train, drop_first=True)\n",
    "X_test = pd.get_dummies(X_test, drop_first=True)"
   ]
  },
  {
   "cell_type": "code",
   "execution_count": 505,
   "id": "f817f339-b065-4df4-9284-f4d91b705ca3",
   "metadata": {},
   "outputs": [
    {
     "name": "stdout",
     "output_type": "stream",
     "text": [
      "Best alpha: 0.14174741629268062\n",
      "Best L1 ratio: 0.5\n",
      "Root Mean Squared Error (RMSE): 148.6692\n",
      "R² Score: 0.4719\n"
     ]
    }
   ],
   "source": [
    "from sklearn.linear_model import ElasticNetCV\n",
    "from sklearn.metrics import mean_squared_error, r2_score\n",
    "import numpy as np\n",
    "from sklearn.model_selection import train_test_split\n",
    "\n",
    "# Initialize the ElasticNetCV model (with 10-fold cross-validation)\n",
    "elastic_net = ElasticNetCV(cv=10, random_state=42, alphas=np.logspace(-4, 4, 100), \n",
    "                           l1_ratio=0.5, max_iter=10000, tol=1e-4)\n",
    "\n",
    "# Fit the ElasticNetCV model to the training data\n",
    "elastic_net.fit(X_train, y_train)\n",
    "\n",
    "# Get the best alpha and L1 ratio from cross-validation\n",
    "best_alpha = elastic_net.alpha_\n",
    "best_l1_ratio = elastic_net.l1_ratio_\n",
    "print(f\"Best alpha: {best_alpha}\")\n",
    "print(f\"Best L1 ratio: {best_l1_ratio}\")\n",
    "\n",
    "# Predict the target on the test set\n",
    "y_pred = elastic_net.predict(X_test)\n",
    "\n",
    "# Ensure that the predicted values are non-negative (e.g., for a count variable like 'PA')\n",
    "y_pred = np.maximum(y_pred, 0)\n",
    "\n",
    "# Calculate the RMSE (Root Mean Squared Error)\n",
    "rmse = np.sqrt(mean_squared_error(y_test, y_pred))\n",
    "\n",
    "# Calculate the R² score (coefficient of determination)\n",
    "r2 = r2_score(y_test, y_pred)\n",
    "\n",
    "\n",
    "# Ensure that the predicted values are non-negative (e.g., for a count variable like 'PA')\n",
    "y_pred = np.maximum(y_pred, 0)\n",
    "\n",
    "# Calculate the RMSE (Root Mean Squared Error)\n",
    "rmse = np.sqrt(mean_squared_error(y_test, y_pred))\n",
    "\n",
    "# Calculate the R² score (coefficient of determination)\n",
    "r2 = r2_score(y_test, y_pred)\n",
    "\n",
    "# Print the results\n",
    "print(f\"Root Mean Squared Error (RMSE): {rmse:.4f}\")\n",
    "print(f\"R² Score: {r2:.4f}\")"
   ]
  },
  {
   "cell_type": "code",
   "execution_count": 506,
   "id": "2df9a336-cd63-4ab5-91fc-85ca64dc29ea",
   "metadata": {},
   "outputs": [
    {
     "data": {
      "image/png": "[encoded data removed]",
      "text/plain": [
       "<Figure size 1200x800 with 1 Axes>"
      ]
     },
     "metadata": {},
     "output_type": "display_data"
    }
   ],
   "source": [
    "coefficients = elastic_net.coef_\n",
    "\n",
    "# Create a DataFrame for the coefficients to associate with feature names\n",
    "# After scaling, the feature names are lost, so we use the columns from X\n",
    "feature_importance = pd.DataFrame({\n",
    "    'Feature': X_train.columns,  # Use the original feature names from X\n",
    "    'Coefficient': coefficients\n",
    "})\n",
    "\n",
    "# Sort the features by the absolute value of the coefficients\n",
    "feature_importance['Abs_Coefficient'] = feature_importance['Coefficient'].abs()\n",
    "feature_importance = feature_importance.sort_values(by='Abs_Coefficient', ascending=False)\n",
    "\n",
    "# Set up the figure size\n",
    "plt.figure(figsize=(12, 8))\n",
    "\n",
    "# Create the bar plot\n",
    "plt.barh(feature_importance['Feature'], feature_importance['Abs_Coefficient'], color='darkorange')\n",
    "\n",
    "# Set labels and title\n",
    "plt.xlabel('Absolute Coefficient Value', fontsize=14)\n",
    "plt.ylabel('Feature', fontsize=14)\n",
    "plt.title('Feature Importance from ElasticNet', fontsize=16)\n",
    "\n",
    "# Invert y-axis to show most important features at the top\n",
    "plt.gca().invert_yaxis()\n",
    "\n",
    "# Adjust layout to prevent cutoff\n",
    "plt.tight_layout()\n",
    "\n",
    "# Save and show the plot\n",
    "plt.savefig(\"pitching_feature_importance.jpg\", bbox_inches='tight')\n",
    "plt.show()\n"
   ]
  },
  {
   "cell_type": "code",
   "execution_count": 507,
   "id": "4c706c90-e31b-40fa-90d6-cfaa981903fb",
   "metadata": {},
   "outputs": [
    {
     "name": "stdout",
     "output_type": "stream",
     "text": [
      "\n",
      "Actual vs Predicted Values:\n",
      "     Actual   Predicted\n",
      "711    23.0  150.788240\n",
      "440   466.0  416.941162\n",
      "525   160.0  109.124630\n",
      "722    27.0   69.486812\n",
      "39      0.0  140.590720\n",
      "290   145.0  254.658787\n",
      "300     0.0  140.336101\n",
      "333   163.0    0.000000\n",
      "208     0.0   37.831227\n",
      "136    23.0   18.630057\n",
      "137   116.0  514.449376\n",
      "723     0.0    9.510446\n",
      "486     0.0    0.000000\n",
      "244   121.0  147.067945\n",
      "344     0.0   43.187306\n",
      "853    89.0  172.630181\n",
      "572   273.0  178.744771\n",
      "655   202.0  157.699844\n",
      "891   258.0  227.073905\n",
      "110     0.0   24.303479\n"
     ]
    }
   ],
   "source": [
    "print(\"\\nActual vs Predicted Values:\")\n",
    "print(pd.DataFrame({\"Actual\": y_test, \"Predicted\": y_pred}).head(20))  # Show first 20 rows"
   ]
  },
  {
   "cell_type": "code",
   "execution_count": 508,
   "id": "dd0d2551-4dd1-493d-87a2-504ebc2cb461",
   "metadata": {},
   "outputs": [
    {
     "data": {
      "text/plain": [
       "total_bf                           0.000000\n",
       "age                               27.000000\n",
       "sp_pct_                            0.000000\n",
       "total_bf_                         24.375000\n",
       "whip_reg                           1.428132\n",
       "baa_reg                            0.205876\n",
       "k_rate_pitcher_reg                 0.168777\n",
       "bb_rate_pitcher_reg                0.100286\n",
       "inplay_ratio_pitcher_reg           0.170903\n",
       "fly_balls_ratio_pitcher_reg        1.405737\n",
       "ground_balls_ratio_pitcher_reg     1.718654\n",
       "line_drives_ratio_pitcher_reg      1.370923\n",
       "popups_ratio_pitcher_reg           1.104127\n",
       "avg_bf_per_outing_reg              4.261380\n",
       "pitcher_avg_xwoba_reg              0.375342\n",
       "pitcher_avg_woba_reg               0.378625\n",
       "zone_chase_pct_reg                 0.584252\n",
       "avg_fb_vel_reg                    94.739117\n",
       "Name: 741, dtype: float64"
      ]
     },
     "execution_count": 508,
     "metadata": {},
     "output_type": "execute_result"
    }
   ],
   "source": [
    "df_pitching.loc[741]"
   ]
  },
  {
   "cell_type": "markdown",
   "id": "1db07960-e8ce-4f17-bd65-7d270f60257e",
   "metadata": {},
   "source": [
    "# Use model for predictions in 2024"
   ]
  },
  {
   "cell_type": "code",
   "execution_count": 510,
   "id": "eecb24bd-234c-4551-8c8a-c6f7e6807e1d",
   "metadata": {},
   "outputs": [],
   "source": [
    "df_pitching_final = pd.read_csv('pitcher_features_final_model.csv')"
   ]
  },
  {
   "cell_type": "code",
   "execution_count": 511,
   "id": "88b90687-1287-4be6-82bc-627aaadf20da",
   "metadata": {},
   "outputs": [],
   "source": [
    "df_pitching_final.drop(columns=['Unnamed: 0','primary_position','sp_pct','total_bf','year','throws','babip_pitcher_reg','years_after_28','pitcher_avg_exp_ba_reg','hr_fb_pct_pitcher_reg'], inplace=True)\n",
    "X_new = df_pitching_final.drop(columns='player_mlb_id')\n",
    "player_ids = df_pitching_final['player_mlb_id']"
   ]
  },
  {
   "cell_type": "code",
   "execution_count": 512,
   "id": "96cabe91-c416-4091-a82c-648d31ba620b",
   "metadata": {},
   "outputs": [],
   "source": [
    "#convert categorical data\n",
    "X_new = pd.get_dummies(X_new, drop_first=True)"
   ]
  },
  {
   "cell_type": "code",
   "execution_count": 513,
   "id": "e4f0f38d-d415-49df-8148-1623e1f79a31",
   "metadata": {},
   "outputs": [],
   "source": [
    "# Scale features\n",
    "numeric_cols = X_new.select_dtypes(include=np.number).columns\n",
    "\n",
    "scaler = StandardScaler()\n",
    "X_new[numeric_cols] = scaler.fit_transform(X_new[numeric_cols])"
   ]
  },
  {
   "cell_type": "code",
   "execution_count": 514,
   "id": "2127661d-85fe-4748-ba2b-63ae35e309b0",
   "metadata": {},
   "outputs": [],
   "source": [
    "# Assuming X_new is preprocessed and has the same features as X_train\n",
    "y_new_pred = elastic_net.predict(X_new)\n",
    "\n",
    "# Ensure non-negative predictions (if applicable)\n",
    "y_new_pred = np.maximum(y_new_pred, 0)"
   ]
  },
  {
   "cell_type": "code",
   "execution_count": 515,
   "id": "27a4f3e7-3955-400b-b654-e0b667798a54",
   "metadata": {},
   "outputs": [],
   "source": [
    "df_pitcher_predictions = pd.DataFrame({\n",
    "    'player_id': player_ids,  # Make sure player_ids matches the length of y_new_pred\n",
    "    'predicted_value': y_new_pred\n",
    "})"
   ]
  },
  {
   "cell_type": "code",
   "execution_count": 516,
   "id": "71432b1a-e5d3-4c5a-aca2-eec8adcb8c4d",
   "metadata": {},
   "outputs": [
    {
     "data": {
      "text/html": [
       "<div>\n",
       "<style scoped>\n",
       "    .dataframe tbody tr th:only-of-type {\n",
       "        vertical-align: middle;\n",
       "    }\n",
       "\n",
       "    .dataframe tbody tr th {\n",
       "        vertical-align: top;\n",
       "    }\n",
       "\n",
       "    .dataframe thead th {\n",
       "        text-align: right;\n",
       "    }\n",
       "</style>\n",
       "<table border=\"1\" class=\"dataframe\">\n",
       "  <thead>\n",
       "    <tr style=\"text-align: right;\">\n",
       "      <th></th>\n",
       "      <th>player_id</th>\n",
       "      <th>predicted_value</th>\n",
       "    </tr>\n",
       "  </thead>\n",
       "  <tbody>\n",
       "    <tr>\n",
       "      <th>0</th>\n",
       "      <td>007d7209f1d3287648e11f52c5a5148732f7a791</td>\n",
       "      <td>89.546450</td>\n",
       "    </tr>\n",
       "    <tr>\n",
       "      <th>1</th>\n",
       "      <td>007dcc596b82af90fd37f3413e98812b87a6b305</td>\n",
       "      <td>140.498106</td>\n",
       "    </tr>\n",
       "    <tr>\n",
       "      <th>2</th>\n",
       "      <td>0110ddbbd4e67bbd0a355dd5561021b075920eb3</td>\n",
       "      <td>600.154126</td>\n",
       "    </tr>\n",
       "    <tr>\n",
       "      <th>3</th>\n",
       "      <td>01171c9c71028faf86b7447ec692000f50df9fac</td>\n",
       "      <td>272.244693</td>\n",
       "    </tr>\n",
       "    <tr>\n",
       "      <th>4</th>\n",
       "      <td>01b9d70c4ec72b8a0f733bdf6bc47df596617dfd</td>\n",
       "      <td>194.030606</td>\n",
       "    </tr>\n",
       "    <tr>\n",
       "      <th>...</th>\n",
       "      <td>...</td>\n",
       "      <td>...</td>\n",
       "    </tr>\n",
       "    <tr>\n",
       "      <th>1061</th>\n",
       "      <td>ff3b7d21e60c24b6e926e3ffc3fbeb78cc9e4057</td>\n",
       "      <td>260.035144</td>\n",
       "    </tr>\n",
       "    <tr>\n",
       "      <th>1062</th>\n",
       "      <td>ffa57541bf6d7030fdf7206f4aa0141a2c918647</td>\n",
       "      <td>413.518216</td>\n",
       "    </tr>\n",
       "    <tr>\n",
       "      <th>1063</th>\n",
       "      <td>ffbad18fedea89e09f42dac340e9ebb0bc18303d</td>\n",
       "      <td>44.504855</td>\n",
       "    </tr>\n",
       "    <tr>\n",
       "      <th>1064</th>\n",
       "      <td>ffc9b6a7a663bc322e74c70a5ed8756787a577d0</td>\n",
       "      <td>172.511501</td>\n",
       "    </tr>\n",
       "    <tr>\n",
       "      <th>1065</th>\n",
       "      <td>ffd2fbf22dc9ac7811c1bd9ecf5d5c0392744a18</td>\n",
       "      <td>182.704693</td>\n",
       "    </tr>\n",
       "  </tbody>\n",
       "</table>\n",
       "<p>1066 rows × 2 columns</p>\n",
       "</div>"
      ],
      "text/plain": [
       "                                     player_id  predicted_value\n",
       "0     007d7209f1d3287648e11f52c5a5148732f7a791        89.546450\n",
       "1     007dcc596b82af90fd37f3413e98812b87a6b305       140.498106\n",
       "2     0110ddbbd4e67bbd0a355dd5561021b075920eb3       600.154126\n",
       "3     01171c9c71028faf86b7447ec692000f50df9fac       272.244693\n",
       "4     01b9d70c4ec72b8a0f733bdf6bc47df596617dfd       194.030606\n",
       "...                                        ...              ...\n",
       "1061  ff3b7d21e60c24b6e926e3ffc3fbeb78cc9e4057       260.035144\n",
       "1062  ffa57541bf6d7030fdf7206f4aa0141a2c918647       413.518216\n",
       "1063  ffbad18fedea89e09f42dac340e9ebb0bc18303d        44.504855\n",
       "1064  ffc9b6a7a663bc322e74c70a5ed8756787a577d0       172.511501\n",
       "1065  ffd2fbf22dc9ac7811c1bd9ecf5d5c0392744a18       182.704693\n",
       "\n",
       "[1066 rows x 2 columns]"
      ]
     },
     "execution_count": 516,
     "metadata": {},
     "output_type": "execute_result"
    }
   ],
   "source": [
    "df_pitcher_predictions"
   ]
  },
  {
   "cell_type": "markdown",
   "id": "a9d7e74c-1eed-4c9c-ba61-84171486af14",
   "metadata": {},
   "source": [
    "Finalize prediction counts"
   ]
  },
  {
   "cell_type": "code",
   "execution_count": 518,
   "id": "3f9643b8-dbe5-471b-9458-f8681944ff32",
   "metadata": {},
   "outputs": [],
   "source": [
    "submission = pd.read_csv('sample_submission.csv')\n",
    "bat_pred = pd.read_csv('batting_predictions.csv')"
   ]
  },
  {
   "cell_type": "code",
   "execution_count": 519,
   "id": "861b0cdd-1796-4aa9-a12b-372c9f94cf1f",
   "metadata": {},
   "outputs": [],
   "source": [
    "predictions = bat_pred.merge(df_pitcher_predictions, on='player_id', how='outer').drop(columns='Unnamed: 0')"
   ]
  },
  {
   "cell_type": "code",
   "execution_count": 520,
   "id": "4d1da5dc-dfda-4653-bf41-38aea1c70313",
   "metadata": {},
   "outputs": [],
   "source": [
    "predictions = predictions.fillna(0)"
   ]
  },
  {
   "cell_type": "code",
   "execution_count": 521,
   "id": "50f3e123-1cb5-4e75-82f1-bec90dec25a2",
   "metadata": {},
   "outputs": [],
   "source": [
    "predictions['PLAYING_TIME'] = predictions['predicted_value_x'] + predictions['predicted_value_y']"
   ]
  },
  {
   "cell_type": "code",
   "execution_count": 522,
   "id": "2237e8ac-381e-4d45-99cf-25f6baad277b",
   "metadata": {},
   "outputs": [
    {
     "data": {
      "text/html": [
       "<div>\n",
       "<style scoped>\n",
       "    .dataframe tbody tr th:only-of-type {\n",
       "        vertical-align: middle;\n",
       "    }\n",
       "\n",
       "    .dataframe tbody tr th {\n",
       "        vertical-align: top;\n",
       "    }\n",
       "\n",
       "    .dataframe thead th {\n",
       "        text-align: right;\n",
       "    }\n",
       "</style>\n",
       "<table border=\"1\" class=\"dataframe\">\n",
       "  <thead>\n",
       "    <tr style=\"text-align: right;\">\n",
       "      <th></th>\n",
       "      <th>player_id</th>\n",
       "      <th>predicted_value_x</th>\n",
       "      <th>predicted_value_y</th>\n",
       "      <th>PLAYING_TIME</th>\n",
       "    </tr>\n",
       "  </thead>\n",
       "  <tbody>\n",
       "    <tr>\n",
       "      <th>0</th>\n",
       "      <td>0014c193005b425aaad55358686fb0dd1a4a0755</td>\n",
       "      <td>132.037951</td>\n",
       "      <td>0.000000</td>\n",
       "      <td>132.037951</td>\n",
       "    </tr>\n",
       "    <tr>\n",
       "      <th>1</th>\n",
       "      <td>003af1e4636109b822c9acfa703cb517c46d89fc</td>\n",
       "      <td>145.742600</td>\n",
       "      <td>0.000000</td>\n",
       "      <td>145.742600</td>\n",
       "    </tr>\n",
       "    <tr>\n",
       "      <th>2</th>\n",
       "      <td>0043ac96d4fde6fcfd5a841b8d902661e69a6009</td>\n",
       "      <td>253.488349</td>\n",
       "      <td>0.000000</td>\n",
       "      <td>253.488349</td>\n",
       "    </tr>\n",
       "    <tr>\n",
       "      <th>3</th>\n",
       "      <td>007d7209f1d3287648e11f52c5a5148732f7a791</td>\n",
       "      <td>0.000000</td>\n",
       "      <td>89.546450</td>\n",
       "      <td>89.546450</td>\n",
       "    </tr>\n",
       "    <tr>\n",
       "      <th>4</th>\n",
       "      <td>007dcc596b82af90fd37f3413e98812b87a6b305</td>\n",
       "      <td>0.000000</td>\n",
       "      <td>140.498106</td>\n",
       "      <td>140.498106</td>\n",
       "    </tr>\n",
       "    <tr>\n",
       "      <th>...</th>\n",
       "      <td>...</td>\n",
       "      <td>...</td>\n",
       "      <td>...</td>\n",
       "      <td>...</td>\n",
       "    </tr>\n",
       "    <tr>\n",
       "      <th>1914</th>\n",
       "      <td>ff6a1ab20dddd786a6d449658d8efdfe075cc3f2</td>\n",
       "      <td>82.721192</td>\n",
       "      <td>0.000000</td>\n",
       "      <td>82.721192</td>\n",
       "    </tr>\n",
       "    <tr>\n",
       "      <th>1915</th>\n",
       "      <td>ffa57541bf6d7030fdf7206f4aa0141a2c918647</td>\n",
       "      <td>0.000000</td>\n",
       "      <td>413.518216</td>\n",
       "      <td>413.518216</td>\n",
       "    </tr>\n",
       "    <tr>\n",
       "      <th>1916</th>\n",
       "      <td>ffbad18fedea89e09f42dac340e9ebb0bc18303d</td>\n",
       "      <td>0.000000</td>\n",
       "      <td>44.504855</td>\n",
       "      <td>44.504855</td>\n",
       "    </tr>\n",
       "    <tr>\n",
       "      <th>1917</th>\n",
       "      <td>ffc9b6a7a663bc322e74c70a5ed8756787a577d0</td>\n",
       "      <td>0.000000</td>\n",
       "      <td>172.511501</td>\n",
       "      <td>172.511501</td>\n",
       "    </tr>\n",
       "    <tr>\n",
       "      <th>1918</th>\n",
       "      <td>ffd2fbf22dc9ac7811c1bd9ecf5d5c0392744a18</td>\n",
       "      <td>0.000000</td>\n",
       "      <td>182.704693</td>\n",
       "      <td>182.704693</td>\n",
       "    </tr>\n",
       "  </tbody>\n",
       "</table>\n",
       "<p>1919 rows × 4 columns</p>\n",
       "</div>"
      ],
      "text/plain": [
       "                                     player_id  predicted_value_x  \\\n",
       "0     0014c193005b425aaad55358686fb0dd1a4a0755         132.037951   \n",
       "1     003af1e4636109b822c9acfa703cb517c46d89fc         145.742600   \n",
       "2     0043ac96d4fde6fcfd5a841b8d902661e69a6009         253.488349   \n",
       "3     007d7209f1d3287648e11f52c5a5148732f7a791           0.000000   \n",
       "4     007dcc596b82af90fd37f3413e98812b87a6b305           0.000000   \n",
       "...                                        ...                ...   \n",
       "1914  ff6a1ab20dddd786a6d449658d8efdfe075cc3f2          82.721192   \n",
       "1915  ffa57541bf6d7030fdf7206f4aa0141a2c918647           0.000000   \n",
       "1916  ffbad18fedea89e09f42dac340e9ebb0bc18303d           0.000000   \n",
       "1917  ffc9b6a7a663bc322e74c70a5ed8756787a577d0           0.000000   \n",
       "1918  ffd2fbf22dc9ac7811c1bd9ecf5d5c0392744a18           0.000000   \n",
       "\n",
       "      predicted_value_y  PLAYING_TIME  \n",
       "0              0.000000    132.037951  \n",
       "1              0.000000    145.742600  \n",
       "2              0.000000    253.488349  \n",
       "3             89.546450     89.546450  \n",
       "4            140.498106    140.498106  \n",
       "...                 ...           ...  \n",
       "1914           0.000000     82.721192  \n",
       "1915         413.518216    413.518216  \n",
       "1916          44.504855     44.504855  \n",
       "1917         172.511501    172.511501  \n",
       "1918         182.704693    182.704693  \n",
       "\n",
       "[1919 rows x 4 columns]"
      ]
     },
     "execution_count": 522,
     "metadata": {},
     "output_type": "execute_result"
    }
   ],
   "source": [
    "predictions"
   ]
  },
  {
   "cell_type": "code",
   "execution_count": 523,
   "id": "9d79f840-28e8-47ea-9220-20945e17881a",
   "metadata": {},
   "outputs": [],
   "source": [
    "submission = submission.merge(predictions, left_on='PLAYER_ID', right_on='player_id',how='left',suffixes=('_',''))"
   ]
  },
  {
   "cell_type": "code",
   "execution_count": 524,
   "id": "81c42f94-3d2e-4ef4-acdc-514c66c81570",
   "metadata": {},
   "outputs": [],
   "source": [
    "submission_csv = submission[['PLAYER_ID','PLAYING_TIME']]\n",
    "submission_csv.to_csv('fordham_2024_predictions.csv')"
   ]
  },
  {
   "cell_type": "code",
   "execution_count": 525,
   "id": "2fedad93-f8a0-42bb-9a8d-db546498112b",
   "metadata": {},
   "outputs": [
    {
     "data": {
      "text/plain": [
       "<Axes: xlabel='PLAYING_TIME', ylabel='Count'>"
      ]
     },
     "execution_count": 525,
     "metadata": {},
     "output_type": "execute_result"
    },
    {
     "data": {
      "image/png": "[encoded data removed]",
      "text/plain": [
       "<Figure size 640x480 with 1 Axes>"
      ]
     },
     "metadata": {},
     "output_type": "display_data"
    }
   ],
   "source": [
    "sns.histplot(submission_csv['PLAYING_TIME'])"
   ]
  },
  {
   "cell_type": "code",
   "execution_count": null,
   "id": "3a4ffdc4-49a8-400d-a7e5-9ee0345e8db8",
   "metadata": {},
   "outputs": [],
   "source": []
  }
 ],
 "metadata": {
  "kernelspec": {
   "display_name": "Python [conda env:base] *",
   "language": "python",
   "name": "conda-base-py"
  },
  "language_info": {
   "codemirror_mode": {
    "name": "ipython",
    "version": 3
   },
   "file_extension": ".py",
   "mimetype": "text/x-python",
   "name": "python",
   "nbconvert_exporter": "python",
   "pygments_lexer": "ipython3",
   "version": "3.12.7"
  }
 },
 "nbformat": 4,
 "nbformat_minor": 5
}
