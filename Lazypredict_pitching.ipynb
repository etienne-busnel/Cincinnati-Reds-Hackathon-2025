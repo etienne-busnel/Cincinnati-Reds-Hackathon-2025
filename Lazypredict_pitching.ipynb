{
 "cells": [
  {
   "cell_type": "code",
   "execution_count": 1,
   "id": "06c31c86-e5a0-4450-9621-82cb5521b2b4",
   "metadata": {},
   "outputs": [],
   "source": [
    "#import standard data analysis libraries\n",
    "import pandas as pd\n",
    "import numpy as np\n",
    "import matplotlib.pyplot as plt\n",
    "import seaborn as sns\n",
    "from scipy import stats"
   ]
  },
  {
   "cell_type": "code",
   "execution_count": 2,
   "id": "0f76a230-328c-4176-900d-e934596d4ebb",
   "metadata": {},
   "outputs": [],
   "source": [
    "#!pip install lazypredict\n",
    "from lazypredict.Supervised import LazyRegressor\n",
    "from sklearn.model_selection import train_test_split\n",
    "from sklearn import datasets\n",
    "from sklearn.utils import shuffle\n",
    "from sklearn.preprocessing import StandardScaler\n",
    "from sklearn.metrics import mean_squared_error, r2_score"
   ]
  },
  {
   "cell_type": "code",
   "execution_count": 3,
   "id": "9f867ede-4c3f-4c33-9a66-e27a9e72cd4e",
   "metadata": {},
   "outputs": [],
   "source": [
    "import warnings\n",
    "warnings.filterwarnings('ignore')"
   ]
  },
  {
   "cell_type": "code",
   "execution_count": 4,
   "id": "0910daad-5f1e-463a-bc37-773e3285fc0d",
   "metadata": {},
   "outputs": [],
   "source": [
    "df_players = pd.read_csv('df_players.csv')"
   ]
  },
  {
   "cell_type": "code",
   "execution_count": 154,
   "id": "fb94a270-919e-403e-bb51-13a9a5800700",
   "metadata": {},
   "outputs": [],
   "source": [
    "#make model for batting\n",
    "df_players_pitching = df_players[df_players['primary_position'] == 'p']"
   ]
  },
  {
   "cell_type": "code",
   "execution_count": 156,
   "id": "d5d88441-ae02-4290-ad52-43258468421f",
   "metadata": {},
   "outputs": [
    {
     "data": {
      "text/plain": [
       "Index(['Unnamed: 0', 'player_mlb_id', 'playerID_LAHMAN', 'birthYear',\n",
       "       'birthMonth', 'birthDay', 'birthCountry', 'weight', 'height', 'bats',\n",
       "       ...\n",
       "       'avg_bf_per_outing', 'zone_chase_pct', 'total_runs',\n",
       "       'batter_avg_exp_ba', 'pitcher_avg_exp_ba', 'primary_position', 'sp_pct',\n",
       "       'age', 'years_before_26', 'years_after_28'],\n",
       "      dtype='object', length=184)"
      ]
     },
     "execution_count": 156,
     "metadata": {},
     "output_type": "execute_result"
    }
   ],
   "source": [
    "df_players_pitching.columns"
   ]
  },
  {
   "cell_type": "code",
   "execution_count": 158,
   "id": "4b196ebb-d8d1-46b8-bd32-4092f1fd24dd",
   "metadata": {},
   "outputs": [],
   "source": [
    "current_pitcher_features = [\n",
    "    'player_mlb_id',\n",
    "    'year',\n",
    "    'years_after_28',\n",
    "    'throws',\n",
    "    'whip',\n",
    "    'baa',\n",
    "    'sp_pct',\n",
    "    'k_rate_pitcher',\n",
    "    'bb_rate_pitcher',\n",
    "    'inplay_ratio_pitcher',\n",
    "    'batter_avg_exp_ba',\n",
    "    'babip_pitcher',\n",
    "    'fly_balls_ratio_pitcher',\n",
    "    'ground_balls_ratio_pitcher',\n",
    "    'line_drives_ratio_pitcher',\n",
    "    'popups_ratio_pitcher',\n",
    "    'hr_fb_pct_pitcher',\n",
    "    'avg_bf_per_outing',\n",
    "    'zone_chase_pct',\n",
    "    'avg_fb_vel',\n",
    "    'total_bf'\n",
    "    #regress stats based on 50 league average plate appearances\n",
    "]"
   ]
  },
  {
   "cell_type": "markdown",
   "id": "4ec99e1f-bb24-49e4-94df-594b69cef332",
   "metadata": {},
   "source": [
    "Get averages per year"
   ]
  },
  {
   "cell_type": "code",
   "execution_count": 161,
   "id": "8ad8bc91-93e8-44b9-b2ae-b56993994469",
   "metadata": {},
   "outputs": [],
   "source": [
    "df_players_pitching = df_players_pitching[current_pitcher_features]"
   ]
  },
  {
   "cell_type": "code",
   "execution_count": 163,
   "id": "f0bd32de-ac55-40a5-bc81-017d5a6eea52",
   "metadata": {},
   "outputs": [],
   "source": [
    "df_players_pitching['starter'] = (df_players_pitching['sp_pct'] > 50).astype(int)"
   ]
  },
  {
   "cell_type": "code",
   "execution_count": 165,
   "id": "870701f2-da4b-4cb5-ba21-52af9170131c",
   "metadata": {},
   "outputs": [],
   "source": [
    "df_players_pitching_means = df_players_pitching[df_players_pitching['total_bf'] > 1]\n",
    "\n",
    "#select numeric columns and columns needed for groupby\n",
    "numeric_cols = df_players_pitching_means.select_dtypes(include=np.number).columns.tolist()\n",
    "df_players_pitching_means = df_players_pitching_means[numeric_cols]\n",
    "\n",
    "#get means\n",
    "weighted_means_position = df_players_pitching_means.groupby(['year', 'starter']).apply(\n",
    "    lambda group: group.apply(\n",
    "        lambda col: np.average(col.dropna(), weights=group.loc[col.dropna().index, 'total_bf']) \n",
    "        if col.name != 'total_bf' and group.loc[col.dropna().index, 'total_bf'].sum() > 0\n",
    "        else col.mean(),  # Use col.mean() for total_bf column\n",
    "        axis=0\n",
    "    )\n",
    ")\n",
    "weighted_means_position = weighted_means_position.drop(columns=['starter','year']).reset_index()"
   ]
  },
  {
   "cell_type": "markdown",
   "id": "116256e9-f5ed-4725-88ff-7fd6df6279a8",
   "metadata": {},
   "source": [
    "Back to model"
   ]
  },
  {
   "cell_type": "code",
   "execution_count": 168,
   "id": "0f9e6186-5f00-4ba2-a008-8c38c664cd22",
   "metadata": {},
   "outputs": [
    {
     "data": {
      "text/plain": [
       "player_mlb_id                    0\n",
       "year                             0\n",
       "years_after_28                   0\n",
       "throws                           0\n",
       "whip                          1001\n",
       "baa                            998\n",
       "sp_pct                           0\n",
       "k_rate_pitcher                 998\n",
       "bb_rate_pitcher                998\n",
       "inplay_ratio_pitcher           998\n",
       "batter_avg_exp_ba             2943\n",
       "babip_pitcher                  998\n",
       "fly_balls_ratio_pitcher       1039\n",
       "ground_balls_ratio_pitcher    1014\n",
       "line_drives_ratio_pitcher     1040\n",
       "popups_ratio_pitcher          1202\n",
       "hr_fb_pct_pitcher             1039\n",
       "avg_bf_per_outing              998\n",
       "zone_chase_pct                 998\n",
       "avg_fb_vel                    1095\n",
       "total_bf                         0\n",
       "starter                          0\n",
       "dtype: int64"
      ]
     },
     "execution_count": 168,
     "metadata": {},
     "output_type": "execute_result"
    }
   ],
   "source": [
    "df_players_pitching.isna().sum()"
   ]
  },
  {
   "cell_type": "code",
   "execution_count": 170,
   "id": "35aaab80-81ea-434b-b4e3-36b76f348938",
   "metadata": {},
   "outputs": [],
   "source": [
    "# Set the index for easier mapping\n",
    "weighted_means_dict = weighted_means_position.set_index(['year', 'starter']).to_dict(orient='index')\n",
    "\n",
    "# Function to fill NaNs using weighted means\n",
    "def fill_with_weighted_means(row):\n",
    "    key = (row['year'], row['starter'])\n",
    "    if key in weighted_means_dict:\n",
    "        for col in weighted_means_dict[key]:\n",
    "            if pd.isna(row[col]):  # Fill NaN only\n",
    "                row[col] = weighted_means_dict[key][col]\n",
    "    return row\n",
    "\n",
    "# Apply the function\n",
    "df_players_pitching = df_players_pitching.apply(fill_with_weighted_means, axis=1)\n",
    "\n",
    "# Replace any remaining NaNs with 0\n",
    "df_players_pitching.fillna(0, inplace=True)\n"
   ]
  },
  {
   "cell_type": "code",
   "execution_count": 172,
   "id": "3a61caf1-5c04-46b3-88dd-eadc4895dc9e",
   "metadata": {},
   "outputs": [],
   "source": [
    "#avoid infinite values\n",
    "df_players_pitching.replace(np.inf, 1, inplace=True)"
   ]
  },
  {
   "cell_type": "code",
   "execution_count": 174,
   "id": "3e3dcb97-ff09-4232-8dde-cd2712212918",
   "metadata": {},
   "outputs": [],
   "source": [
    "# Ensure it's a DataFrame and reset the index properly\n",
    "weighted_means_position = pd.DataFrame(weighted_means_position).reset_index()\n",
    "weighted_means_position.replace(np.inf, 1, inplace=True)"
   ]
  },
  {
   "cell_type": "code",
   "execution_count": 176,
   "id": "e6f71edf-16b0-4312-ab6d-02385d567e94",
   "metadata": {},
   "outputs": [],
   "source": [
    "df_pitching_w_relative = df_players_pitching.merge(weighted_means_position, on=['year','starter'], how='left', suffixes=('','_rel'))"
   ]
  },
  {
   "cell_type": "code",
   "execution_count": 178,
   "id": "2602d823-12d1-4ab0-9744-7784294ab989",
   "metadata": {},
   "outputs": [],
   "source": [
    "# Iterate over all columns\n",
    "for col in df_pitching_w_relative.columns:\n",
    "    # Check if column ends with '_rel'\n",
    "    if col.endswith('_rel'):\n",
    "        # Create the name of the corresponding column without '_rel'\n",
    "        original_col = col[:-4]  # Remove the '_rel' suffix\n",
    "        if original_col in df_pitching_w_relative.columns:\n",
    "            # Subtract the original column from the '_rel' column and assign it back\n",
    "            df_pitching_w_relative[col] = (df_pitching_w_relative[original_col] / df_pitching_w_relative[col])*100"
   ]
  },
  {
   "cell_type": "code",
   "execution_count": 180,
   "id": "e99b1935-2a71-44b8-9e7a-7a0f371c6e22",
   "metadata": {},
   "outputs": [],
   "source": [
    "df_2021 = df_pitching_w_relative[df_pitching_w_relative['year'] == 2021]\n",
    "df_2022 = df_pitching_w_relative[df_pitching_w_relative['year'] == 2022]\n",
    "df_2023 = df_pitching_w_relative[df_pitching_w_relative['year'] == 2023][['player_mlb_id','total_bf','years_after_28','throws','starter']]\n",
    "df_all = df_2021.merge(df_2022, on='player_mlb_id', how='outer', suffixes=(\"_2ya\",\"_1ya\")).drop(columns=['year_2ya','year_1ya'])\n",
    "df_all = df_all.merge(df_2023, on='player_mlb_id',how='outer').drop(columns='player_mlb_id')"
   ]
  },
  {
   "cell_type": "code",
   "execution_count": 182,
   "id": "a98eb413-f83b-4923-a446-0fe4bc13fd9a",
   "metadata": {},
   "outputs": [],
   "source": [
    "df_all['total_bf_avg'] = df_all['total_bf_1ya']*.6 + df_all['total_bf_2ya']*.4"
   ]
  },
  {
   "cell_type": "code",
   "execution_count": 184,
   "id": "5b26fd51-db28-4413-a6a2-fc41f8bfc011",
   "metadata": {},
   "outputs": [],
   "source": [
    "df_all.drop(columns='batter_avg_exp_ba_rel_1ya', inplace=True)"
   ]
  },
  {
   "cell_type": "code",
   "execution_count": 186,
   "id": "22e6edae-7d27-496b-8447-7ca884153a6c",
   "metadata": {},
   "outputs": [],
   "source": [
    "# #fill in empty columns for batting hand\n",
    "# df_50['bats'] = df_50['bats'].fillna(df_50['bats_1ya']).fillna(df_50['bats_2ya'])\n",
    "\n",
    "# #fill in empty ages/years after debut for players\n",
    "# df_50['age'] = df_50['age'].fillna(df_50['age_1ya'] + 1).fillna(df_50['age_2ya'] + 2)\n",
    "# df_50['years_before_26'] = df_50['years_before_26'].fillna(df_50['years_before_26_1ya'] + 1).fillna(df_50['years_before_26_2ya'] + 2)\n",
    "# df_50['years_after_28'] = df_50['years_after_28'].fillna(df_50['years_after_28_1ya'] + 1).fillna(df_50['years_after_28_2ya'] + 2)\n",
    "# df_50 = df_50.drop(columns=['age_1ya','age_2ya','years_before_26_1ya','years_before_26_2ya','years_after_28_1ya','years_after_28_2ya','bats_1ya','bats_2ya','primary_position_2ya','primary_position_1ya'])\n",
    "\n",
    "# #for players who didn't play, set batting position to other year or the min for the year.\n",
    "# df_50['avg_lineup_position_1ya'] = df_50['avg_lineup_position_1ya'].fillna(df_50['avg_lineup_position_2ya']).fillna(df_50['avg_lineup_position_1ya'].max())\n",
    "# df_50['avg_lineup_position_2ya'] = df_50['avg_lineup_position_2ya'].fillna(df_50['avg_lineup_position_1ya'])"
   ]
  },
  {
   "cell_type": "code",
   "execution_count": null,
   "id": "55a22f42-1df4-477a-b846-5121a257a452",
   "metadata": {},
   "outputs": [],
   "source": []
  },
  {
   "cell_type": "code",
   "execution_count": 189,
   "id": "b0eeb095-4d77-4f22-b1de-05afb91bdc08",
   "metadata": {},
   "outputs": [],
   "source": [
    "df_all = df_all[(df_all['total_bf_2ya']>0) & (df_all['total_bf_1ya']>0)]"
   ]
  },
  {
   "cell_type": "code",
   "execution_count": 191,
   "id": "31b2de37-8056-4a32-8e50-106c501179ea",
   "metadata": {},
   "outputs": [],
   "source": [
    "# for col in df_batting_simp.isna().sum().index:\n",
    "#     print(f\"{col}: {df_batting_simp[col].isna().sum()}\")"
   ]
  },
  {
   "cell_type": "code",
   "execution_count": 193,
   "id": "08380186-f5b0-4625-a99b-c1f9826ccbd8",
   "metadata": {},
   "outputs": [],
   "source": [
    "#split starters and relievers\n",
    "df_starters = df_all[df_all['starter'] == 1]\n",
    "df_relievers = df_all[df_all['starter'] == 0]"
   ]
  },
  {
   "cell_type": "code",
   "execution_count": 195,
   "id": "9274ab00-4656-4142-a9a0-f504a1b8270d",
   "metadata": {},
   "outputs": [],
   "source": [
    "#limit columns in df_all\n",
    "pitching_cols = ['total_bf_1ya', 'total_bf_avg', 'total_bf_2ya', 'inplay_ratio_pitcher_rel_1ya', 'inplay_ratio_pitcher_rel_2ya', \n",
    "                 'sp_pct_2ya', 'sp_pct_1ya', 'baa_rel_1ya', 'baa_rel_2ya', 'avg_bf_per_outing_1ya', 'avg_bf_per_outing_2ya',\n",
    "                 'whip_rel_2ya', 'whip_rel_1ya', 'zone_chase_pct_rel_1ya', 'zone_chase_pct_rel_2ya','starter', 'total_bf'\n",
    "                ]\n",
    "df_starters = df_starters[pitching_cols]\n",
    "df_relievers = df_relievers[pitching_cols]"
   ]
  },
  {
   "cell_type": "code",
   "execution_count": 197,
   "id": "84b9d7b9-0e4f-4064-8b45-24acf7b79bce",
   "metadata": {},
   "outputs": [],
   "source": [
    "X = df_starters.drop(columns='total_bf')\n",
    "y = df_starters['total_bf']"
   ]
  },
  {
   "cell_type": "code",
   "execution_count": 199,
   "id": "d1dcb366-864d-42f1-a1f4-eee250e55eba",
   "metadata": {},
   "outputs": [],
   "source": [
    "X_train, X_test, y_train, y_test = train_test_split(X, y, test_size=0.3, random_state=42)"
   ]
  },
  {
   "cell_type": "code",
   "execution_count": 201,
   "id": "4285006e-5e53-48bf-a7e1-b4eaf2aa91e5",
   "metadata": {},
   "outputs": [],
   "source": [
    "# Scale features\n",
    "numeric_cols = X_train.select_dtypes(include=np.number).columns\n",
    "\n",
    "scaler = StandardScaler()\n",
    "X_train[numeric_cols] = scaler.fit_transform(X_train[numeric_cols])\n",
    "X_test[numeric_cols] = scaler.transform(X_test[numeric_cols])"
   ]
  },
  {
   "cell_type": "code",
   "execution_count": 203,
   "id": "c74fea4c-cc32-4502-a484-a4b6969374a5",
   "metadata": {},
   "outputs": [],
   "source": [
    "#convert categorical data\n",
    "X_train = pd.get_dummies(X_train, drop_first=True)\n",
    "X_test = pd.get_dummies(X_test, drop_first=True)"
   ]
  },
  {
   "cell_type": "code",
   "execution_count": 205,
   "id": "89c9a9d8-024e-454b-8ae7-8f245b0aed28",
   "metadata": {},
   "outputs": [
    {
     "name": "stderr",
     "output_type": "stream",
     "text": [
      " 21%|██▏       | 9/42 [00:01<00:04,  7.79it/s]"
     ]
    },
    {
     "name": "stdout",
     "output_type": "stream",
     "text": [
      "GammaRegressor model failed to execute\n",
      "Some value(s) of y are out of the valid range of the loss 'HalfGammaLoss'.\n"
     ]
    },
    {
     "name": "stderr",
     "output_type": "stream",
     "text": [
      " 98%|█████████▊| 41/42 [00:05<00:00,  5.71it/s]"
     ]
    },
    {
     "name": "stdout",
     "output_type": "stream",
     "text": [
      "[LightGBM] [Info] Auto-choosing col-wise multi-threading, the overhead of testing was 0.001114 seconds.\n",
      "You can set `force_col_wise=true` to remove the overhead.\n",
      "[LightGBM] [Info] Total Bins 649\n",
      "[LightGBM] [Info] Number of data points in the train set: 132, number of used features: 15\n",
      "[LightGBM] [Info] Start training from score 402.181818\n",
      "[LightGBM] [Warning] No further splits with positive gain, best gain: -inf\n",
      "[LightGBM] [Warning] No further splits with positive gain, best gain: -inf\n",
      "[LightGBM] [Warning] No further splits with positive gain, best gain: -inf\n",
      "[LightGBM] [Warning] No further splits with positive gain, best gain: -inf\n",
      "[LightGBM] [Warning] No further splits with positive gain, best gain: -inf\n",
      "[LightGBM] [Warning] No further splits with positive gain, best gain: -inf\n",
      "[LightGBM] [Warning] No further splits with positive gain, best gain: -inf\n",
      "[LightGBM] [Warning] No further splits with positive gain, best gain: -inf\n",
      "[LightGBM] [Warning] No further splits with positive gain, best gain: -inf\n",
      "[LightGBM] [Warning] No further splits with positive gain, best gain: -inf\n",
      "[LightGBM] [Warning] No further splits with positive gain, best gain: -inf\n",
      "[LightGBM] [Warning] No further splits with positive gain, best gain: -inf\n",
      "[LightGBM] [Warning] No further splits with positive gain, best gain: -inf\n",
      "[LightGBM] [Warning] No further splits with positive gain, best gain: -inf\n",
      "[LightGBM] [Warning] No further splits with positive gain, best gain: -inf\n",
      "[LightGBM] [Warning] No further splits with positive gain, best gain: -inf\n",
      "[LightGBM] [Warning] No further splits with positive gain, best gain: -inf\n",
      "[LightGBM] [Warning] No further splits with positive gain, best gain: -inf\n",
      "[LightGBM] [Warning] No further splits with positive gain, best gain: -inf\n",
      "[LightGBM] [Warning] No further splits with positive gain, best gain: -inf\n",
      "[LightGBM] [Warning] No further splits with positive gain, best gain: -inf\n",
      "[LightGBM] [Warning] No further splits with positive gain, best gain: -inf\n",
      "[LightGBM] [Warning] No further splits with positive gain, best gain: -inf\n",
      "[LightGBM] [Warning] No further splits with positive gain, best gain: -inf\n",
      "[LightGBM] [Warning] No further splits with positive gain, best gain: -inf\n",
      "[LightGBM] [Warning] No further splits with positive gain, best gain: -inf\n",
      "[LightGBM] [Warning] No further splits with positive gain, best gain: -inf\n",
      "[LightGBM] [Warning] No further splits with positive gain, best gain: -inf\n",
      "[LightGBM] [Warning] No further splits with positive gain, best gain: -inf\n",
      "[LightGBM] [Warning] No further splits with positive gain, best gain: -inf\n",
      "[LightGBM] [Warning] No further splits with positive gain, best gain: -inf\n",
      "[LightGBM] [Warning] No further splits with positive gain, best gain: -inf\n",
      "[LightGBM] [Warning] No further splits with positive gain, best gain: -inf\n",
      "[LightGBM] [Warning] No further splits with positive gain, best gain: -inf\n",
      "[LightGBM] [Warning] No further splits with positive gain, best gain: -inf\n",
      "[LightGBM] [Warning] No further splits with positive gain, best gain: -inf\n",
      "[LightGBM] [Warning] No further splits with positive gain, best gain: -inf\n",
      "[LightGBM] [Warning] No further splits with positive gain, best gain: -inf\n",
      "[LightGBM] [Warning] No further splits with positive gain, best gain: -inf\n",
      "[LightGBM] [Warning] No further splits with positive gain, best gain: -inf\n",
      "[LightGBM] [Warning] No further splits with positive gain, best gain: -inf\n",
      "[LightGBM] [Warning] No further splits with positive gain, best gain: -inf\n",
      "[LightGBM] [Warning] No further splits with positive gain, best gain: -inf\n",
      "[LightGBM] [Warning] No further splits with positive gain, best gain: -inf\n",
      "[LightGBM] [Warning] No further splits with positive gain, best gain: -inf\n",
      "[LightGBM] [Warning] No further splits with positive gain, best gain: -inf\n",
      "[LightGBM] [Warning] No further splits with positive gain, best gain: -inf\n",
      "[LightGBM] [Warning] No further splits with positive gain, best gain: -inf\n",
      "[LightGBM] [Warning] No further splits with positive gain, best gain: -inf\n",
      "[LightGBM] [Warning] No further splits with positive gain, best gain: -inf\n",
      "[LightGBM] [Warning] No further splits with positive gain, best gain: -inf\n",
      "[LightGBM] [Warning] No further splits with positive gain, best gain: -inf\n",
      "[LightGBM] [Warning] No further splits with positive gain, best gain: -inf\n",
      "[LightGBM] [Warning] No further splits with positive gain, best gain: -inf\n",
      "[LightGBM] [Warning] No further splits with positive gain, best gain: -inf\n",
      "[LightGBM] [Warning] No further splits with positive gain, best gain: -inf\n",
      "[LightGBM] [Warning] No further splits with positive gain, best gain: -inf\n",
      "[LightGBM] [Warning] No further splits with positive gain, best gain: -inf\n",
      "[LightGBM] [Warning] No further splits with positive gain, best gain: -inf\n",
      "[LightGBM] [Warning] No further splits with positive gain, best gain: -inf\n",
      "[LightGBM] [Warning] No further splits with positive gain, best gain: -inf\n",
      "[LightGBM] [Warning] No further splits with positive gain, best gain: -inf\n",
      "[LightGBM] [Warning] No further splits with positive gain, best gain: -inf\n",
      "[LightGBM] [Warning] No further splits with positive gain, best gain: -inf\n",
      "[LightGBM] [Warning] No further splits with positive gain, best gain: -inf\n",
      "[LightGBM] [Warning] No further splits with positive gain, best gain: -inf\n",
      "[LightGBM] [Warning] No further splits with positive gain, best gain: -inf\n",
      "[LightGBM] [Warning] No further splits with positive gain, best gain: -inf\n",
      "[LightGBM] [Warning] No further splits with positive gain, best gain: -inf\n",
      "[LightGBM] [Warning] No further splits with positive gain, best gain: -inf\n",
      "[LightGBM] [Warning] No further splits with positive gain, best gain: -inf\n",
      "[LightGBM] [Warning] No further splits with positive gain, best gain: -inf\n",
      "[LightGBM] [Warning] No further splits with positive gain, best gain: -inf\n",
      "[LightGBM] [Warning] No further splits with positive gain, best gain: -inf\n",
      "[LightGBM] [Warning] No further splits with positive gain, best gain: -inf\n",
      "[LightGBM] [Warning] No further splits with positive gain, best gain: -inf\n",
      "[LightGBM] [Warning] No further splits with positive gain, best gain: -inf\n",
      "[LightGBM] [Warning] No further splits with positive gain, best gain: -inf\n",
      "[LightGBM] [Warning] No further splits with positive gain, best gain: -inf\n",
      "[LightGBM] [Warning] No further splits with positive gain, best gain: -inf\n",
      "[LightGBM] [Warning] No further splits with positive gain, best gain: -inf\n",
      "[LightGBM] [Warning] No further splits with positive gain, best gain: -inf\n",
      "[LightGBM] [Warning] No further splits with positive gain, best gain: -inf\n",
      "[LightGBM] [Warning] No further splits with positive gain, best gain: -inf\n",
      "[LightGBM] [Warning] No further splits with positive gain, best gain: -inf\n",
      "[LightGBM] [Warning] No further splits with positive gain, best gain: -inf\n",
      "[LightGBM] [Warning] No further splits with positive gain, best gain: -inf\n",
      "[LightGBM] [Warning] No further splits with positive gain, best gain: -inf\n",
      "[LightGBM] [Warning] No further splits with positive gain, best gain: -inf\n",
      "[LightGBM] [Warning] No further splits with positive gain, best gain: -inf\n",
      "[LightGBM] [Warning] No further splits with positive gain, best gain: -inf\n",
      "[LightGBM] [Warning] No further splits with positive gain, best gain: -inf\n",
      "[LightGBM] [Warning] No further splits with positive gain, best gain: -inf\n",
      "[LightGBM] [Warning] No further splits with positive gain, best gain: -inf\n",
      "[LightGBM] [Warning] No further splits with positive gain, best gain: -inf\n",
      "[LightGBM] [Warning] No further splits with positive gain, best gain: -inf\n",
      "[LightGBM] [Warning] No further splits with positive gain, best gain: -inf\n",
      "[LightGBM] [Warning] No further splits with positive gain, best gain: -inf\n"
     ]
    },
    {
     "name": "stderr",
     "output_type": "stream",
     "text": [
      "100%|██████████| 42/42 [00:06<00:00,  6.67it/s]"
     ]
    },
    {
     "name": "stdout",
     "output_type": "stream",
     "text": [
      "[LightGBM] [Warning] No further splits with positive gain, best gain: -inf\n",
      "[LightGBM] [Warning] No further splits with positive gain, best gain: -inf\n",
      "                               Adjusted R-Squared  R-Squared   RMSE  \\\n",
      "Model                                                                 \n",
      "LassoLarsCV                                 -0.17       0.17 249.41   \n",
      "LassoLars                                   -0.17       0.17 249.41   \n",
      "LarsCV                                      -0.17       0.17 249.64   \n",
      "LassoLarsIC                                 -0.17       0.16 249.82   \n",
      "LassoCV                                     -0.17       0.16 250.25   \n",
      "AdaBoostRegressor                           -0.18       0.16 251.13   \n",
      "TweedieRegressor                            -0.19       0.15 252.21   \n",
      "ElasticNet                                  -0.19       0.15 252.35   \n",
      "ElasticNetCV                                -0.20       0.15 252.70   \n",
      "BayesianRidge                               -0.20       0.14 253.06   \n",
      "RandomForestRegressor                       -0.21       0.14 254.21   \n",
      "RidgeCV                                     -0.21       0.13 254.30   \n",
      "Lars                                        -0.22       0.13 254.90   \n",
      "HistGradientBoostingRegressor               -0.22       0.13 255.04   \n",
      "SGDRegressor                                -0.22       0.13 255.06   \n",
      "Lasso                                       -0.22       0.13 255.20   \n",
      "Ridge                                       -0.22       0.13 255.49   \n",
      "TransformedTargetRegressor                  -0.22       0.13 255.70   \n",
      "LinearRegression                            -0.22       0.13 255.70   \n",
      "LGBMRegressor                               -0.23       0.12 255.93   \n",
      "ExtraTreesRegressor                         -0.25       0.11 258.48   \n",
      "HuberRegressor                              -0.28       0.09 260.96   \n",
      "PoissonRegressor                            -0.28       0.08 261.84   \n",
      "PassiveAggressiveRegressor                  -0.31       0.06 264.93   \n",
      "OrthogonalMatchingPursuit                   -0.32       0.06 264.94   \n",
      "OrthogonalMatchingPursuitCV                 -0.34       0.05 266.97   \n",
      "BaggingRegressor                            -0.36       0.03 269.07   \n",
      "NuSVR                                       -0.39       0.01 271.95   \n",
      "DummyRegressor                              -0.40      -0.00 273.83   \n",
      "SVR                                         -0.41      -0.01 274.70   \n",
      "QuantileRegressor                           -0.42      -0.02 275.57   \n",
      "GradientBoostingRegressor                   -0.50      -0.07 282.68   \n",
      "XGBRegressor                                -0.50      -0.07 282.96   \n",
      "KNeighborsRegressor                         -0.64      -0.17 295.55   \n",
      "RANSACRegressor                             -0.86      -0.33 314.80   \n",
      "GaussianProcessRegressor                    -1.13      -0.52 337.50   \n",
      "DecisionTreeRegressor                       -1.17      -0.55 340.64   \n",
      "ExtraTreeRegressor                          -1.27      -0.62 348.17   \n",
      "LinearSVR                                   -1.87      -1.05 391.20   \n",
      "KernelRidge                                 -2.49      -1.49 431.65   \n",
      "MLPRegressor                                -2.80      -1.71 450.31   \n",
      "\n",
      "                               Time Taken  \n",
      "Model                                      \n",
      "LassoLarsCV                          0.06  \n",
      "LassoLars                            0.03  \n",
      "LarsCV                               0.05  \n",
      "LassoLarsIC                          0.03  \n",
      "LassoCV                              0.20  \n",
      "AdaBoostRegressor                    0.28  \n",
      "TweedieRegressor                     0.03  \n",
      "ElasticNet                           0.02  \n",
      "ElasticNetCV                         0.22  \n",
      "BayesianRidge                        0.03  \n",
      "RandomForestRegressor                0.65  \n",
      "RidgeCV                              0.02  \n",
      "Lars                                 0.03  \n",
      "HistGradientBoostingRegressor        0.90  \n",
      "SGDRegressor                         0.04  \n",
      "Lasso                                0.02  \n",
      "Ridge                                0.03  \n",
      "TransformedTargetRegressor           0.03  \n",
      "LinearRegression                     0.03  \n",
      "LGBMRegressor                        0.48  \n",
      "ExtraTreesRegressor                  0.38  \n",
      "HuberRegressor                       0.05  \n",
      "PoissonRegressor                     0.03  \n",
      "PassiveAggressiveRegressor           0.02  \n",
      "OrthogonalMatchingPursuit            0.02  \n",
      "OrthogonalMatchingPursuitCV          0.04  \n",
      "BaggingRegressor                     0.10  \n",
      "NuSVR                                0.02  \n",
      "DummyRegressor                       0.02  \n",
      "SVR                                  0.03  \n",
      "QuantileRegressor                    0.04  \n",
      "GradientBoostingRegressor            0.35  \n",
      "XGBRegressor                         0.82  \n",
      "KNeighborsRegressor                  0.05  \n",
      "RANSACRegressor                      0.24  \n",
      "GaussianProcessRegressor             0.05  \n",
      "DecisionTreeRegressor                0.03  \n",
      "ExtraTreeRegressor                   0.03  \n",
      "LinearSVR                            0.02  \n",
      "KernelRidge                          0.03  \n",
      "MLPRegressor                         0.67  \n"
     ]
    },
    {
     "name": "stderr",
     "output_type": "stream",
     "text": [
      "\n"
     ]
    }
   ],
   "source": [
    "reg = LazyRegressor(verbose=0, ignore_warnings=False, custom_metric=None)\n",
    "models, predictions = reg.fit(X_train, X_test, y_train, y_test)\n",
    "\n",
    "print(models)"
   ]
  },
  {
   "cell_type": "code",
   "execution_count": 55,
   "id": "93151cb4-26d5-439e-8de8-b0599a3fc3fa",
   "metadata": {},
   "outputs": [],
   "source": [
    "#try with simple model"
   ]
  },
  {
   "cell_type": "code",
   "execution_count": 207,
   "id": "4238a8d5-19ac-4aa8-895c-4b979ac335a9",
   "metadata": {},
   "outputs": [
    {
     "name": "stdout",
     "output_type": "stream",
     "text": [
      "Best alpha: 0.6280291441834259\n",
      "Best L1 ratio: 0.5\n",
      "Root Mean Squared Error (RMSE): 252.7793\n",
      "R² Score: 0.1449\n"
     ]
    }
   ],
   "source": [
    "from sklearn.linear_model import ElasticNetCV\n",
    "from sklearn.metrics import mean_squared_error, r2_score\n",
    "import numpy as np\n",
    "from sklearn.model_selection import train_test_split\n",
    "\n",
    "# Initialize the ElasticNetCV model (with 10-fold cross-validation)\n",
    "elastic_net = ElasticNetCV(cv=10, random_state=42, alphas=np.logspace(-4, 4, 100), l1_ratio=0.5)\n",
    "\n",
    "# Fit the ElasticNetCV model to the training data\n",
    "elastic_net.fit(X_train, y_train)\n",
    "\n",
    "# Get the best alpha and L1 ratio from cross-validation\n",
    "best_alpha = elastic_net.alpha_\n",
    "best_l1_ratio = elastic_net.l1_ratio_\n",
    "print(f\"Best alpha: {best_alpha}\")\n",
    "print(f\"Best L1 ratio: {best_l1_ratio}\")\n",
    "\n",
    "# Predict the target on the test set\n",
    "y_pred = elastic_net.predict(X_test)\n",
    "\n",
    "# Ensure that the predicted values are non-negative (e.g., for a count variable like 'PA')\n",
    "y_pred = np.maximum(y_pred, 0)\n",
    "\n",
    "# Calculate the RMSE (Root Mean Squared Error)\n",
    "rmse = np.sqrt(mean_squared_error(y_test, y_pred))\n",
    "\n",
    "# Calculate the R² score (coefficient of determination)\n",
    "r2 = r2_score(y_test, y_pred)\n",
    "\n",
    "# Print the results\n",
    "print(f\"Root Mean Squared Error (RMSE): {rmse:.4f}\")\n",
    "print(f\"R² Score: {r2:.4f}\")\n"
   ]
  },
  {
   "cell_type": "code",
   "execution_count": 209,
   "id": "bd1ad3eb-a48d-4365-9970-ae9ae167999e",
   "metadata": {},
   "outputs": [
    {
     "name": "stdout",
     "output_type": "stream",
     "text": [
      "                         Feature  Coefficient  Abs_Coefficient\n",
      "3   inplay_ratio_pitcher_rel_1ya       -49.57            49.57\n",
      "0                   total_bf_1ya        48.34            48.34\n",
      "7                    baa_rel_1ya       -41.11            41.11\n",
      "1                   total_bf_avg        36.98            36.98\n",
      "12                  whip_rel_1ya       -35.04            35.04\n",
      "13        zone_chase_pct_rel_1ya        29.75            29.75\n",
      "8                    baa_rel_2ya        23.60            23.60\n",
      "11                  whip_rel_2ya        21.31            21.31\n",
      "5                     sp_pct_2ya        13.74            13.74\n",
      "6                     sp_pct_1ya        13.74            13.74\n",
      "4   inplay_ratio_pitcher_rel_2ya        13.40            13.40\n",
      "10         avg_bf_per_outing_2ya        12.11            12.11\n",
      "14        zone_chase_pct_rel_2ya       -10.32            10.32\n",
      "2                   total_bf_2ya         7.80             7.80\n",
      "9          avg_bf_per_outing_1ya         0.00             0.00\n",
      "15                       starter         0.00             0.00\n"
     ]
    },
    {
     "data": {
      "image/png": "[encoded data removed]",
      "text/plain": [
       "<Figure size 1000x600 with 1 Axes>"
      ]
     },
     "metadata": {},
     "output_type": "display_data"
    }
   ],
   "source": [
    "coefficients = elastic_net.coef_\n",
    "\n",
    "# Create a DataFrame for the coefficients to associate with feature names\n",
    "# After scaling, the feature names are lost, so we use the columns from X\n",
    "feature_importance = pd.DataFrame({\n",
    "    'Feature': X_train.columns,  # Use the original feature names from X\n",
    "    'Coefficient': coefficients\n",
    "})\n",
    "\n",
    "# Sort the features by the absolute value of the coefficients\n",
    "feature_importance['Abs_Coefficient'] = feature_importance['Coefficient'].abs()\n",
    "feature_importance = feature_importance.sort_values(by='Abs_Coefficient', ascending=False)\n",
    "\n",
    "# Print the feature importance\n",
    "print(feature_importance.head(20))\n",
    "\n",
    "# Plot the feature importance\n",
    "plt.figure(figsize=(10, 6))\n",
    "plt.barh(feature_importance['Feature'], feature_importance['Abs_Coefficient'])\n",
    "plt.xlabel('Absolute Coefficient Value')\n",
    "plt.title('Feature Importance from ElasticNet')\n",
    "plt.gca().invert_yaxis()  # To show the most important feature at the top\n",
    "plt.show()"
   ]
  },
  {
   "cell_type": "code",
   "execution_count": 211,
   "id": "0f1afc29-550b-4999-b9ec-8dee404ddb5a",
   "metadata": {},
   "outputs": [
    {
     "name": "stdout",
     "output_type": "stream",
     "text": [
      "\n",
      "Actual vs Predicted Values:\n",
      "      Actual  Predicted\n",
      "1050      33     324.74\n",
      "938      281     439.14\n",
      "131      794     437.36\n",
      "121        0     366.20\n",
      "379      564     127.00\n",
      "594      220     413.90\n",
      "266       51     427.47\n",
      "419      223     460.39\n",
      "123        0     250.72\n",
      "759      188     316.54\n",
      "345      267     557.71\n",
      "695      770     551.48\n",
      "251      625     308.75\n",
      "900        0     266.82\n",
      "326      155     524.09\n",
      "377        0     209.43\n",
      "617       79     404.15\n",
      "912      755     481.51\n",
      "209      216     426.64\n",
      "646      822     675.31\n"
     ]
    }
   ],
   "source": [
    "print(\"\\nActual vs Predicted Values:\")\n",
    "print(pd.DataFrame({\"Actual\": y_test, \"Predicted\": y_pred}).head(20))  # Show first 20 rows"
   ]
  },
  {
   "cell_type": "code",
   "execution_count": 217,
   "id": "1d4e3d6a-a0ec-4957-8cdc-07ea56c95061",
   "metadata": {},
   "outputs": [
    {
     "data": {
      "text/plain": [
       "total_bf_1ya                   194.00\n",
       "total_bf_avg                   194.80\n",
       "total_bf_2ya                   196.00\n",
       "inplay_ratio_pitcher_rel_1ya   107.78\n",
       "inplay_ratio_pitcher_rel_2ya   117.14\n",
       "sp_pct_2ya                      64.00\n",
       "sp_pct_1ya                      64.00\n",
       "baa_rel_1ya                    116.17\n",
       "baa_rel_2ya                    111.22\n",
       "avg_bf_per_outing_1ya           10.27\n",
       "avg_bf_per_outing_2ya            9.55\n",
       "whip_rel_2ya                   110.39\n",
       "whip_rel_1ya                   116.43\n",
       "zone_chase_pct_rel_1ya         100.30\n",
       "zone_chase_pct_rel_2ya         101.60\n",
       "starter                          1.00\n",
       "total_bf                         0.00\n",
       "Name: 377, dtype: float64"
      ]
     },
     "execution_count": 217,
     "metadata": {},
     "output_type": "execute_result"
    }
   ],
   "source": [
    "df_starters.loc[377]"
   ]
  },
  {
   "cell_type": "code",
   "execution_count": null,
   "id": "c468f235-9fe0-4cff-92bf-ba2fa03b9b5e",
   "metadata": {},
   "outputs": [],
   "source": []
  }
 ],
 "metadata": {
  "kernelspec": {
   "display_name": "Python [conda env:base] *",
   "language": "python",
   "name": "conda-base-py"
  },
  "language_info": {
   "codemirror_mode": {
    "name": "ipython",
    "version": 3
   },
   "file_extension": ".py",
   "mimetype": "text/x-python",
   "name": "python",
   "nbconvert_exporter": "python",
   "pygments_lexer": "ipython3",
   "version": "3.12.7"
  }
 },
 "nbformat": 4,
 "nbformat_minor": 5
}
