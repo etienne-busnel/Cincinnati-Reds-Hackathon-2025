{
 "cells": [
  {
   "cell_type": "code",
   "execution_count": 3,
   "id": "b2ca04b5-a8a5-4212-a97f-86d548497acb",
   "metadata": {},
   "outputs": [],
   "source": [
    "import pandas as pd\n",
    "import numpy as np\n",
    "import matplotlib.pyplot as plt\n",
    "import seaborn as sns"
   ]
  },
  {
   "cell_type": "code",
   "execution_count": 4,
   "id": "ffb26c96-b061-4df5-92e3-14aedb8f7819",
   "metadata": {},
   "outputs": [],
   "source": [
    "df_savant_raw = pd.read_csv('savant_data_2021_2023.csv')\n",
    "df_people = pd.read_csv('lahman_people.csv')"
   ]
  },
  {
   "cell_type": "code",
   "execution_count": 5,
   "id": "e58238f7-6f6a-46b6-b83f-c4aa4576251b",
   "metadata": {},
   "outputs": [],
   "source": [
    "df_savant_raw['year'] = df_savant_raw['game_date'].str[:4].astype(int)"
   ]
  },
  {
   "cell_type": "code",
   "execution_count": 6,
   "id": "42cfe185-78a7-4c8c-919d-61d9f6474ff2",
   "metadata": {},
   "outputs": [],
   "source": [
    "df_players = pd.concat([df_people.assign(year=i) for i in range(2021, 2024)], ignore_index=True)\n",
    "df_players = df_players[df_players['player_mlb_id'].notna()]"
   ]
  },
  {
   "cell_type": "code",
   "execution_count": 7,
   "id": "ded62094-384d-45be-948e-9f1e46a84a90",
   "metadata": {},
   "outputs": [],
   "source": [
    "at_bat_ids = df_savant_raw[['batter','pitcher','game_date','year','times_faced']].drop_duplicates()\n",
    "at_bat_ids['at_bat_id'] = range(1, len(at_bat_ids) + 1)\n",
    "df_savant = df_savant_raw.merge(at_bat_ids, on=['batter','pitcher','game_date','year','times_faced'],how='inner')"
   ]
  },
  {
   "cell_type": "code",
   "execution_count": 9,
   "id": "09de56f2-7f84-44ea-a841-41fa891e2295",
   "metadata": {},
   "outputs": [],
   "source": [
    "bf_counts = at_bat_ids.groupby(['pitcher','year'])['at_bat_id'].nunique().reset_index(name='total_bf')\n",
    "df_players = df_players.merge(bf_counts,\n",
    "                              left_on=['player_mlb_id','year'],\n",
    "                              right_on=['pitcher','year'],\n",
    "                              how='left'\n",
    "                             ).drop(columns='pitcher')\n",
    "df_players['total_bf'] = df_players['total_bf'].fillna(0).astype(int)"
   ]
  },
  {
   "cell_type": "code",
   "execution_count": 10,
   "id": "ed6e735c-2440-4215-81f9-3d3a93c92291",
   "metadata": {},
   "outputs": [],
   "source": [
    "df_pitcher_info = df_savant_raw[['pitcher','p_throws']].drop_duplicates()\n",
    "df_pitch_info = df_savant_raw[['pitch_type','release_speed','release_pos_x','release_pos_y','release_pos_z','release_spin_rate','release_extension']]"
   ]
  },
  {
   "cell_type": "code",
   "execution_count": 11,
   "id": "9b9a9646-106b-4312-a003-8ddbf1fafdb4",
   "metadata": {},
   "outputs": [],
   "source": [
    "df_full_pitch_info = df_savant_raw[['pitcher','p_throws','pitch_type','release_speed','release_pos_x','release_pos_y','release_pos_z','release_spin_rate','release_extension']]"
   ]
  },
  {
   "cell_type": "code",
   "execution_count": 12,
   "id": "5ea11ae0-c43a-4d27-abf2-6d30f1697f82",
   "metadata": {},
   "outputs": [
    {
     "data": {
      "text/html": [
       "<div>\n",
       "<style scoped>\n",
       "    .dataframe tbody tr th:only-of-type {\n",
       "        vertical-align: middle;\n",
       "    }\n",
       "\n",
       "    .dataframe tbody tr th {\n",
       "        vertical-align: top;\n",
       "    }\n",
       "\n",
       "    .dataframe thead th {\n",
       "        text-align: right;\n",
       "    }\n",
       "</style>\n",
       "<table border=\"1\" class=\"dataframe\">\n",
       "  <thead>\n",
       "    <tr style=\"text-align: right;\">\n",
       "      <th></th>\n",
       "      <th>pitcher</th>\n",
       "      <th>p_throws</th>\n",
       "      <th>pitch_type</th>\n",
       "      <th>release_speed</th>\n",
       "      <th>release_pos_x</th>\n",
       "      <th>release_pos_y</th>\n",
       "      <th>release_pos_z</th>\n",
       "      <th>release_spin_rate</th>\n",
       "      <th>release_extension</th>\n",
       "    </tr>\n",
       "  </thead>\n",
       "  <tbody>\n",
       "    <tr>\n",
       "      <th>0</th>\n",
       "      <td>4f902241478a103f7a818f5be9a7b7ddf43cabb9</td>\n",
       "      <td>L</td>\n",
       "      <td>FF</td>\n",
       "      <td>93.2</td>\n",
       "      <td>0.84</td>\n",
       "      <td>53.47</td>\n",
       "      <td>5.74</td>\n",
       "      <td>2351.0</td>\n",
       "      <td>7.0</td>\n",
       "    </tr>\n",
       "    <tr>\n",
       "      <th>1</th>\n",
       "      <td>4f902241478a103f7a818f5be9a7b7ddf43cabb9</td>\n",
       "      <td>L</td>\n",
       "      <td>SL</td>\n",
       "      <td>82.9</td>\n",
       "      <td>1.03</td>\n",
       "      <td>53.66</td>\n",
       "      <td>5.69</td>\n",
       "      <td>2408.0</td>\n",
       "      <td>6.8</td>\n",
       "    </tr>\n",
       "    <tr>\n",
       "      <th>2</th>\n",
       "      <td>afb9b85defc6fe5c3f48681480eff4d96ab723c7</td>\n",
       "      <td>R</td>\n",
       "      <td>FF</td>\n",
       "      <td>94.6</td>\n",
       "      <td>-1.85</td>\n",
       "      <td>54.12</td>\n",
       "      <td>5.77</td>\n",
       "      <td>2264.0</td>\n",
       "      <td>6.4</td>\n",
       "    </tr>\n",
       "    <tr>\n",
       "      <th>3</th>\n",
       "      <td>0f061b9439845159c394a71e55d635b10ca25656</td>\n",
       "      <td>L</td>\n",
       "      <td>FF</td>\n",
       "      <td>97.1</td>\n",
       "      <td>1.86</td>\n",
       "      <td>54.08</td>\n",
       "      <td>6.57</td>\n",
       "      <td>2257.0</td>\n",
       "      <td>6.4</td>\n",
       "    </tr>\n",
       "    <tr>\n",
       "      <th>4</th>\n",
       "      <td>4f902241478a103f7a818f5be9a7b7ddf43cabb9</td>\n",
       "      <td>L</td>\n",
       "      <td>FF</td>\n",
       "      <td>93.6</td>\n",
       "      <td>0.60</td>\n",
       "      <td>53.45</td>\n",
       "      <td>5.85</td>\n",
       "      <td>2233.0</td>\n",
       "      <td>7.1</td>\n",
       "    </tr>\n",
       "  </tbody>\n",
       "</table>\n",
       "</div>"
      ],
      "text/plain": [
       "                                    pitcher p_throws pitch_type  \\\n",
       "0  4f902241478a103f7a818f5be9a7b7ddf43cabb9        L         FF   \n",
       "1  4f902241478a103f7a818f5be9a7b7ddf43cabb9        L         SL   \n",
       "2  afb9b85defc6fe5c3f48681480eff4d96ab723c7        R         FF   \n",
       "3  0f061b9439845159c394a71e55d635b10ca25656        L         FF   \n",
       "4  4f902241478a103f7a818f5be9a7b7ddf43cabb9        L         FF   \n",
       "\n",
       "   release_speed  release_pos_x  release_pos_y  release_pos_z  \\\n",
       "0           93.2           0.84          53.47           5.74   \n",
       "1           82.9           1.03          53.66           5.69   \n",
       "2           94.6          -1.85          54.12           5.77   \n",
       "3           97.1           1.86          54.08           6.57   \n",
       "4           93.6           0.60          53.45           5.85   \n",
       "\n",
       "   release_spin_rate  release_extension  \n",
       "0             2351.0                7.0  \n",
       "1             2408.0                6.8  \n",
       "2             2264.0                6.4  \n",
       "3             2257.0                6.4  \n",
       "4             2233.0                7.1  "
      ]
     },
     "execution_count": 12,
     "metadata": {},
     "output_type": "execute_result"
    }
   ],
   "source": [
    "df_full_pitch_info.head()"
   ]
  },
  {
   "cell_type": "code",
   "execution_count": 13,
   "id": "a9e91f4e-f979-443c-a6d9-95eb465eeabe",
   "metadata": {},
   "outputs": [
    {
     "data": {
      "text/plain": [
       "p_throws\n",
       "L    87.961038\n",
       "R    89.279641\n",
       "Name: release_speed, dtype: float64"
      ]
     },
     "execution_count": 13,
     "metadata": {},
     "output_type": "execute_result"
    }
   ],
   "source": [
    "df_full_pitch_info.groupby(['p_throws'])['release_speed'].mean()"
   ]
  },
  {
   "cell_type": "code",
   "execution_count": 35,
   "id": "8ec597bc-273a-4056-9b47-a88f2d145683",
   "metadata": {},
   "outputs": [
    {
     "data": {
      "text/plain": [
       "p_throws\n",
       "L    2190.95509\n",
       "R    2262.57140\n",
       "Name: release_spin_rate, dtype: float64"
      ]
     },
     "execution_count": 35,
     "metadata": {},
     "output_type": "execute_result"
    }
   ],
   "source": [
    "df_full_pitch_info.groupby(['p_throws'])['release_spin_rate'].mean()"
   ]
  },
  {
   "cell_type": "code",
   "execution_count": 37,
   "id": "8cb8e872-107f-483a-ad2d-ee048f5e97a9",
   "metadata": {},
   "outputs": [
    {
     "data": {
      "text/plain": [
       "pitch_type\n",
       "CH    85.194678\n",
       "CS    67.631683\n",
       "CU    78.878982\n",
       "EP    48.997253\n",
       "FA    69.154792\n",
       "FC    89.006994\n",
       "FF    93.939048\n",
       "FO    82.967738\n",
       "FS    86.490498\n",
       "KC    81.213525\n",
       "KN    74.067986\n",
       "PO    89.579167\n",
       "SC    80.214667\n",
       "SI    93.192988\n",
       "SL    84.965771\n",
       "ST    81.701641\n",
       "SV    82.306737\n",
       "Name: release_speed, dtype: float64"
      ]
     },
     "execution_count": 37,
     "metadata": {},
     "output_type": "execute_result"
    }
   ],
   "source": [
    "df_full_pitch_info.groupby(['pitch_type'])['release_speed'].mean()"
   ]
  },
  {
   "cell_type": "code",
   "execution_count": 39,
   "id": "5eb54291-3855-4ed2-b0bb-97a20305b172",
   "metadata": {},
   "outputs": [
    {
     "data": {
      "text/plain": [
       "pitch_type\n",
       "CH    1763.652985\n",
       "CS    2289.119601\n",
       "CU    2520.565480\n",
       "EP    1190.195122\n",
       "FA    1692.767017\n",
       "FC    2373.866855\n",
       "FF    2277.032772\n",
       "FO    1079.639687\n",
       "FS    1372.971009\n",
       "KC    2498.307196\n",
       "KN     370.158273\n",
       "PO    2188.383333\n",
       "SC    2092.960000\n",
       "SI    2137.208506\n",
       "SL    2407.081617\n",
       "ST    2582.855070\n",
       "SV    2576.611119\n",
       "Name: release_spin_rate, dtype: float64"
      ]
     },
     "execution_count": 39,
     "metadata": {},
     "output_type": "execute_result"
    }
   ],
   "source": [
    "df_full_pitch_info.groupby(['pitch_type'])['release_spin_rate'].mean()"
   ]
  },
  {
   "cell_type": "code",
   "execution_count": 14,
   "id": "10927e04-3cc8-485f-9abb-5e8c47572fa9",
   "metadata": {},
   "outputs": [
    {
     "data": {
      "text/html": [
       "<div>\n",
       "<style scoped>\n",
       "    .dataframe tbody tr th:only-of-type {\n",
       "        vertical-align: middle;\n",
       "    }\n",
       "\n",
       "    .dataframe tbody tr th {\n",
       "        vertical-align: top;\n",
       "    }\n",
       "\n",
       "    .dataframe thead th {\n",
       "        text-align: right;\n",
       "    }\n",
       "</style>\n",
       "<table border=\"1\" class=\"dataframe\">\n",
       "  <thead>\n",
       "    <tr style=\"text-align: right;\">\n",
       "      <th></th>\n",
       "      <th>pitcher</th>\n",
       "      <th>p_throws</th>\n",
       "    </tr>\n",
       "  </thead>\n",
       "  <tbody>\n",
       "    <tr>\n",
       "      <th>0</th>\n",
       "      <td>4f902241478a103f7a818f5be9a7b7ddf43cabb9</td>\n",
       "      <td>L</td>\n",
       "    </tr>\n",
       "    <tr>\n",
       "      <th>2</th>\n",
       "      <td>afb9b85defc6fe5c3f48681480eff4d96ab723c7</td>\n",
       "      <td>R</td>\n",
       "    </tr>\n",
       "    <tr>\n",
       "      <th>3</th>\n",
       "      <td>0f061b9439845159c394a71e55d635b10ca25656</td>\n",
       "      <td>L</td>\n",
       "    </tr>\n",
       "    <tr>\n",
       "      <th>11</th>\n",
       "      <td>e4d5ba68d53a3c6d7fe36e1a527a907c46830d75</td>\n",
       "      <td>R</td>\n",
       "    </tr>\n",
       "    <tr>\n",
       "      <th>12</th>\n",
       "      <td>e6822c35620fc9837800588826173a2153b69478</td>\n",
       "      <td>R</td>\n",
       "    </tr>\n",
       "  </tbody>\n",
       "</table>\n",
       "</div>"
      ],
      "text/plain": [
       "                                     pitcher p_throws\n",
       "0   4f902241478a103f7a818f5be9a7b7ddf43cabb9        L\n",
       "2   afb9b85defc6fe5c3f48681480eff4d96ab723c7        R\n",
       "3   0f061b9439845159c394a71e55d635b10ca25656        L\n",
       "11  e4d5ba68d53a3c6d7fe36e1a527a907c46830d75        R\n",
       "12  e6822c35620fc9837800588826173a2153b69478        R"
      ]
     },
     "execution_count": 14,
     "metadata": {},
     "output_type": "execute_result"
    }
   ],
   "source": [
    "df_pitcher_info.head()"
   ]
  },
  {
   "cell_type": "code",
   "execution_count": 15,
   "id": "0cb2d609-7d6d-4d5c-9d78-854db6be0590",
   "metadata": {},
   "outputs": [
    {
     "data": {
      "text/html": [
       "<div>\n",
       "<style scoped>\n",
       "    .dataframe tbody tr th:only-of-type {\n",
       "        vertical-align: middle;\n",
       "    }\n",
       "\n",
       "    .dataframe tbody tr th {\n",
       "        vertical-align: top;\n",
       "    }\n",
       "\n",
       "    .dataframe thead th {\n",
       "        text-align: right;\n",
       "    }\n",
       "</style>\n",
       "<table border=\"1\" class=\"dataframe\">\n",
       "  <thead>\n",
       "    <tr style=\"text-align: right;\">\n",
       "      <th></th>\n",
       "      <th>pitch_type</th>\n",
       "      <th>release_speed</th>\n",
       "      <th>release_pos_x</th>\n",
       "      <th>release_pos_y</th>\n",
       "      <th>release_pos_z</th>\n",
       "      <th>release_spin_rate</th>\n",
       "      <th>release_extension</th>\n",
       "    </tr>\n",
       "  </thead>\n",
       "  <tbody>\n",
       "    <tr>\n",
       "      <th>0</th>\n",
       "      <td>FF</td>\n",
       "      <td>93.2</td>\n",
       "      <td>0.84</td>\n",
       "      <td>53.47</td>\n",
       "      <td>5.74</td>\n",
       "      <td>2351.0</td>\n",
       "      <td>7.0</td>\n",
       "    </tr>\n",
       "    <tr>\n",
       "      <th>1</th>\n",
       "      <td>SL</td>\n",
       "      <td>82.9</td>\n",
       "      <td>1.03</td>\n",
       "      <td>53.66</td>\n",
       "      <td>5.69</td>\n",
       "      <td>2408.0</td>\n",
       "      <td>6.8</td>\n",
       "    </tr>\n",
       "    <tr>\n",
       "      <th>2</th>\n",
       "      <td>FF</td>\n",
       "      <td>94.6</td>\n",
       "      <td>-1.85</td>\n",
       "      <td>54.12</td>\n",
       "      <td>5.77</td>\n",
       "      <td>2264.0</td>\n",
       "      <td>6.4</td>\n",
       "    </tr>\n",
       "    <tr>\n",
       "      <th>3</th>\n",
       "      <td>FF</td>\n",
       "      <td>97.1</td>\n",
       "      <td>1.86</td>\n",
       "      <td>54.08</td>\n",
       "      <td>6.57</td>\n",
       "      <td>2257.0</td>\n",
       "      <td>6.4</td>\n",
       "    </tr>\n",
       "    <tr>\n",
       "      <th>4</th>\n",
       "      <td>FF</td>\n",
       "      <td>93.6</td>\n",
       "      <td>0.60</td>\n",
       "      <td>53.45</td>\n",
       "      <td>5.85</td>\n",
       "      <td>2233.0</td>\n",
       "      <td>7.1</td>\n",
       "    </tr>\n",
       "  </tbody>\n",
       "</table>\n",
       "</div>"
      ],
      "text/plain": [
       "  pitch_type  release_speed  release_pos_x  release_pos_y  release_pos_z  \\\n",
       "0         FF           93.2           0.84          53.47           5.74   \n",
       "1         SL           82.9           1.03          53.66           5.69   \n",
       "2         FF           94.6          -1.85          54.12           5.77   \n",
       "3         FF           97.1           1.86          54.08           6.57   \n",
       "4         FF           93.6           0.60          53.45           5.85   \n",
       "\n",
       "   release_spin_rate  release_extension  \n",
       "0             2351.0                7.0  \n",
       "1             2408.0                6.8  \n",
       "2             2264.0                6.4  \n",
       "3             2257.0                6.4  \n",
       "4             2233.0                7.1  "
      ]
     },
     "execution_count": 15,
     "metadata": {},
     "output_type": "execute_result"
    }
   ],
   "source": [
    "df_pitch_info.head()"
   ]
  },
  {
   "cell_type": "code",
   "execution_count": 43,
   "id": "b29fe09e-2f55-45f4-b017-15887f9d1381",
   "metadata": {},
   "outputs": [
    {
     "data": {
      "text/plain": [
       "<Axes: xlabel='total_bf', ylabel='Count'>"
      ]
     },
     "execution_count": 43,
     "metadata": {},
     "output_type": "execute_result"
    },
    {
     "data": {
      "image/png": "[encoded data removed]",
      "text/plain": [
       "<Figure size 640x480 with 1 Axes>"
      ]
     },
     "metadata": {},
     "output_type": "display_data"
    }
   ],
   "source": [
    "sns.histplot(bf_counts['total_bf'])"
   ]
  },
  {
   "cell_type": "code",
   "execution_count": 17,
   "id": "045efc4a-9e11-41d5-96c1-335fc83cc0ea",
   "metadata": {},
   "outputs": [
    {
     "data": {
      "text/plain": [
       "<Axes: xlabel='release_speed', ylabel='Count'>"
      ]
     },
     "execution_count": 17,
     "metadata": {},
     "output_type": "execute_result"
    },
    {
     "data": {
      "image/png": "[encoded data removed]",
      "text/plain": [
       "<Figure size 640x480 with 1 Axes>"
      ]
     },
     "metadata": {},
     "output_type": "display_data"
    }
   ],
   "source": [
    "sns.histplot(df_pitch_info['release_speed'])"
   ]
  },
  {
   "cell_type": "code",
   "execution_count": 18,
   "id": "2e5a7f49-eab8-45bf-b146-3a6efea9b7c3",
   "metadata": {},
   "outputs": [
    {
     "data": {
      "text/plain": [
       "<Axes: xlabel='release_spin_rate', ylabel='Count'>"
      ]
     },
     "execution_count": 18,
     "metadata": {},
     "output_type": "execute_result"
    },
    {
     "data": {
      "image/png": "[encoded data removed]",
      "text/plain": [
       "<Figure size 640x480 with 1 Axes>"
      ]
     },
     "metadata": {},
     "output_type": "display_data"
    }
   ],
   "source": [
    "sns.histplot(df_pitch_info['release_spin_rate'])"
   ]
  },
  {
   "cell_type": "code",
   "execution_count": 19,
   "id": "c3fceca9-528f-4bca-8135-8d3c4b589659",
   "metadata": {},
   "outputs": [
    {
     "data": {
      "text/plain": [
       "<Axes: xlabel='p_throws', ylabel='Count'>"
      ]
     },
     "execution_count": 19,
     "metadata": {},
     "output_type": "execute_result"
    },
    {
     "data": {
      "image/png": "[encoded data removed]",
      "text/plain": [
       "<Figure size 640x480 with 1 Axes>"
      ]
     },
     "metadata": {},
     "output_type": "display_data"
    }
   ],
   "source": [
    "sns.histplot(df_pitcher_info['p_throws'])"
   ]
  },
  {
   "cell_type": "code",
   "execution_count": null,
   "id": "8c800d44-eb40-4129-b16f-d92ee38c950f",
   "metadata": {},
   "outputs": [],
   "source": []
  }
 ],
 "metadata": {
  "kernelspec": {
   "display_name": "Python [conda env:base] *",
   "language": "python",
   "name": "conda-base-py"
  },
  "language_info": {
   "codemirror_mode": {
    "name": "ipython",
    "version": 3
   },
   "file_extension": ".py",
   "mimetype": "text/x-python",
   "name": "python",
   "nbconvert_exporter": "python",
   "pygments_lexer": "ipython3",
   "version": "3.12.7"
  }
 },
 "nbformat": 4,
 "nbformat_minor": 5
}
