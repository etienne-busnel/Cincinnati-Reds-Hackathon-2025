{
 "cells": [
  {
   "cell_type": "code",
   "execution_count": 51,
   "id": "7c092c62-2ca9-41f0-a810-af8ae77ca054",
   "metadata": {},
   "outputs": [],
   "source": [
    "#import standard data analysis libraries\n",
    "import pandas as pd\n",
    "import numpy as np\n",
    "import matplotlib.pyplot as plt\n",
    "import seaborn as sns\n",
    "from scipy import stats"
   ]
  },
  {
   "cell_type": "code",
   "execution_count": 53,
   "id": "06f32e4a-d3bf-4640-b57a-a6845aadaaf9",
   "metadata": {},
   "outputs": [],
   "source": [
    "from sklearn.model_selection import train_test_split\n",
    "from sklearn.linear_model import LinearRegression\n",
    "from sklearn.linear_model import Ridge, RidgeCV, Lasso\n",
    "from sklearn.preprocessing import StandardScaler\n",
    "from sklearn.metrics import mean_squared_error, r2_score\n",
    "from sklearn.model_selection import train_test_split, cross_val_score, cross_validate\n",
    "from sklearn.model_selection import GridSearchCV"
   ]
  },
  {
   "cell_type": "code",
   "execution_count": 107,
   "id": "ccd2b2de-002b-46be-8ff6-3182f1a91571",
   "metadata": {},
   "outputs": [],
   "source": [
    "import warnings\n",
    "warnings.filterwarnings('ignore')"
   ]
  },
  {
   "cell_type": "code",
   "execution_count": 109,
   "id": "86fd3f6d-72ee-407c-acfd-44e80363a55f",
   "metadata": {},
   "outputs": [],
   "source": [
    "df_players = pd.read_csv('df_players_pos.csv')"
   ]
  },
  {
   "cell_type": "code",
   "execution_count": 110,
   "id": "6e4fc7aa-320f-474d-a31b-f8c541fa460f",
   "metadata": {},
   "outputs": [],
   "source": [
    "#remove players with no pa\n",
    "df_players_batting = df_players[df_players['total_pa'] > 0]"
   ]
  },
  {
   "cell_type": "code",
   "execution_count": 113,
   "id": "8e34ab4f-8643-433a-979b-e666808ced0e",
   "metadata": {},
   "outputs": [],
   "source": [
    "df_players_batting['age'] = df_players_batting['year'] - df_players_batting['birthYear']\n",
    "df_players_batting['stolen_bases'] = df_players_batting['batter_stolen_base_2b'] + df_players_batting['batter_stolen_base_3b']"
   ]
  },
  {
   "cell_type": "code",
   "execution_count": 114,
   "id": "19f93971-ed8d-4829-ab11-a6ed444a2332",
   "metadata": {},
   "outputs": [],
   "source": [
    "current_batter_features = [\n",
    "    'player_mlb_id',\n",
    "    'year',\n",
    "    'age',\n",
    "    'years_after_debut',\n",
    "    'bats',\n",
    "    'primary_position',\n",
    "    'stolen_bases',\n",
    "    'avg',\n",
    "    'obp',\n",
    "    'ops',\n",
    "    'iso',\n",
    "    'k_rate_batter',\n",
    "    'bb_rate_batter',\n",
    "    'batter_avg_exp_ba',\n",
    "    'total_pa'\n",
    "]"
   ]
  },
  {
   "cell_type": "code",
   "execution_count": 117,
   "id": "0210d833-c9dd-47dd-9d29-85a8f9629311",
   "metadata": {},
   "outputs": [],
   "source": [
    "df_players_batting.replace(np.inf, 1, inplace=True)\n"
   ]
  },
  {
   "cell_type": "code",
   "execution_count": 119,
   "id": "9b9e1ec2-fd82-4ac3-821a-663e01cfdddc",
   "metadata": {},
   "outputs": [],
   "source": [
    "df_players_batting = df_players_batting[current_batter_features]"
   ]
  },
  {
   "cell_type": "code",
   "execution_count": 121,
   "id": "1e886dba-a7d5-41c6-96a1-a174a780ace6",
   "metadata": {},
   "outputs": [],
   "source": [
    "#players with no fielding likely DH\n",
    "df_players_batting['primary_position'] = df_players_batting['primary_position'].fillna('DH')"
   ]
  },
  {
   "cell_type": "code",
   "execution_count": 123,
   "id": "5a66173b-ce10-4bf8-8769-4b00f4616dd6",
   "metadata": {},
   "outputs": [],
   "source": [
    "#fill with 0 for columns where it makes sense\n",
    "cols_for_0 = ['avg','obp','ops','iso','k_rate_batter','bb_rate_batter','batter_avg_exp_ba']\n",
    "df_players_batting[cols_for_0] = df_players_batting[cols_for_0].fillna(0)"
   ]
  },
  {
   "cell_type": "code",
   "execution_count": 125,
   "id": "3b435145-8073-4876-a6ac-9195e1f7164a",
   "metadata": {},
   "outputs": [
    {
     "data": {
      "text/plain": [
       "player_mlb_id        0\n",
       "year                 0\n",
       "age                  0\n",
       "years_after_debut    0\n",
       "bats                 0\n",
       "primary_position     0\n",
       "stolen_bases         0\n",
       "avg                  0\n",
       "obp                  0\n",
       "ops                  0\n",
       "iso                  0\n",
       "k_rate_batter        0\n",
       "bb_rate_batter       0\n",
       "batter_avg_exp_ba    0\n",
       "total_pa             0\n",
       "dtype: int64"
      ]
     },
     "execution_count": 125,
     "metadata": {},
     "output_type": "execute_result"
    }
   ],
   "source": [
    "#check for nulls\n",
    "df_players_batting.isna().sum()"
   ]
  },
  {
   "cell_type": "code",
   "execution_count": 127,
   "id": "e700cb52-c74c-4bd8-ac50-66d2980215c0",
   "metadata": {},
   "outputs": [],
   "source": [
    "X_2021 = df_players_batting[df_players_batting['year'] == 2021]\n",
    "X_2022 = df_players_batting[df_players_batting['year'] == 2022]\n",
    "X_2023 = df_players_batting[df_players_batting['year'] == 2023][['player_mlb_id','total_pa','age','years_after_debut','bats']]\n",
    "X_all = X_2021.merge(X_2022, on='player_mlb_id', how='outer', suffixes=(\"_2ya\",\"_1ya\")).drop(columns=['year_2ya','year_1ya'])\n",
    "X_all = X_all.merge(X_2023, on='player_mlb_id',how='outer').drop(columns='player_mlb_id')"
   ]
  },
  {
   "cell_type": "code",
   "execution_count": 129,
   "id": "a2984edd-d266-443b-a22c-9b83028c035a",
   "metadata": {},
   "outputs": [],
   "source": [
    "#fill in empty columns for batting hand\n",
    "X_all['bats'] = X_all['bats'].fillna(X_all['bats_1ya']).fillna(X_all['bats_2ya'])\n"
   ]
  },
  {
   "cell_type": "code",
   "execution_count": 131,
   "id": "42750840-dc3c-496c-8f2f-435972753328",
   "metadata": {},
   "outputs": [],
   "source": [
    "#fill in empty ages/years after debut for players\n",
    "X_all['age'] = X_all['age'].fillna(X_all['age_1ya'] + 1).fillna(X_all['age_2ya'] + 2)\n",
    "X_all['years_after_debut'] = X_all['years_after_debut'].fillna(X_all['years_after_debut_1ya'] + 1).fillna(X_all['years_after_debut_2ya'] + 2)\n",
    "\n",
    "X_all = X_all.drop(columns=['age_1ya','age_2ya','years_after_debut_1ya','years_after_debut_2ya','bats_1ya','bats_2ya'])"
   ]
  },
  {
   "cell_type": "code",
   "execution_count": 133,
   "id": "efca2772-7fde-49db-9d51-7bb608edbfa2",
   "metadata": {},
   "outputs": [],
   "source": [
    "#make sure to adjust for age\n",
    "X_all = X_all.fillna(0)"
   ]
  },
  {
   "cell_type": "code",
   "execution_count": 135,
   "id": "5f7490ce-3b74-4050-b964-da107200281f",
   "metadata": {},
   "outputs": [],
   "source": [
    "y = X_all['total_pa']\n",
    "X = X_all.drop(columns='total_pa')"
   ]
  },
  {
   "cell_type": "code",
   "execution_count": 137,
   "id": "dcd5869d-4807-4f48-a6b1-ec86c3fe5a70",
   "metadata": {},
   "outputs": [],
   "source": [
    "X_train, X_test, y_train, y_test = train_test_split(X, y, test_size=0.3, random_state=17)"
   ]
  },
  {
   "cell_type": "code",
   "execution_count": 139,
   "id": "f60adbbd-c3a2-45dc-9a39-8b9449204e08",
   "metadata": {},
   "outputs": [],
   "source": [
    "# Scale features\n",
    "numeric_cols = X_train.select_dtypes(include=np.number).columns\n",
    "\n",
    "scaler = StandardScaler()\n",
    "X_train[numeric_cols] = scaler.fit_transform(X_train[numeric_cols])\n",
    "X_test[numeric_cols] = scaler.transform(X_test[numeric_cols])"
   ]
  },
  {
   "cell_type": "code",
   "execution_count": 141,
   "id": "f2958f67-ded4-492a-92f6-900b0ffbe81e",
   "metadata": {},
   "outputs": [],
   "source": [
    "X_train = pd.get_dummies(X_train, drop_first=True)\n",
    "X_test = pd.get_dummies(X_test, drop_first=True)\n"
   ]
  },
  {
   "cell_type": "code",
   "execution_count": 143,
   "id": "4c0f7579-f566-46f9-9acd-91267ac5843a",
   "metadata": {},
   "outputs": [
    {
     "data": {
      "text/plain": [
       "stolen_bases_2ya           0\n",
       "avg_2ya                    0\n",
       "obp_2ya                    0\n",
       "ops_2ya                    0\n",
       "iso_2ya                    0\n",
       "k_rate_batter_2ya          0\n",
       "bb_rate_batter_2ya         0\n",
       "batter_avg_exp_ba_2ya      0\n",
       "total_pa_2ya               0\n",
       "stolen_bases_1ya           0\n",
       "avg_1ya                    0\n",
       "obp_1ya                    0\n",
       "ops_1ya                    0\n",
       "iso_1ya                    0\n",
       "k_rate_batter_1ya          0\n",
       "bb_rate_batter_1ya         0\n",
       "batter_avg_exp_ba_1ya      0\n",
       "total_pa_1ya               0\n",
       "age                        0\n",
       "years_after_debut          0\n",
       "primary_position_2ya_1b    0\n",
       "primary_position_2ya_2b    0\n",
       "primary_position_2ya_3b    0\n",
       "primary_position_2ya_DH    0\n",
       "primary_position_2ya_c     0\n",
       "primary_position_2ya_cf    0\n",
       "primary_position_2ya_lf    0\n",
       "primary_position_2ya_p     0\n",
       "primary_position_2ya_rf    0\n",
       "primary_position_2ya_ss    0\n",
       "primary_position_1ya_1b    0\n",
       "primary_position_1ya_2b    0\n",
       "primary_position_1ya_3b    0\n",
       "primary_position_1ya_DH    0\n",
       "primary_position_1ya_c     0\n",
       "primary_position_1ya_cf    0\n",
       "primary_position_1ya_lf    0\n",
       "primary_position_1ya_p     0\n",
       "primary_position_1ya_rf    0\n",
       "primary_position_1ya_ss    0\n",
       "bats_L                     0\n",
       "bats_R                     0\n",
       "dtype: int64"
      ]
     },
     "execution_count": 143,
     "metadata": {},
     "output_type": "execute_result"
    }
   ],
   "source": [
    "X_train.isna().sum()"
   ]
  },
  {
   "cell_type": "code",
   "execution_count": 145,
   "id": "a1e84deb-b4e0-497b-914f-fc140df4d7f4",
   "metadata": {},
   "outputs": [
    {
     "name": "stdout",
     "output_type": "stream",
     "text": [
      "The train score for lr model is 0.690928668563695\n",
      "The test score for lr model is 0.6172525551816038\n",
      "\n",
      "Ridge Model............................................\n",
      "\n",
      "The train score for ridge model is 0.6851706054089861\n",
      "The test score for ridge model is 0.6214803487031546\n",
      "\n",
      "RMSE for Linear Regression: 134.4973532057988\n",
      "RMSE for Ridge Regression: 133.75246773407426\n"
     ]
    }
   ],
   "source": [
    "import numpy as np\n",
    "import pandas as pd\n",
    "from sklearn.linear_model import LinearRegression, Ridge\n",
    "\n",
    "# Ensure X_train and X_test have the same columns\n",
    "X_train, X_test = X_train.align(X_test, join='left', axis=1, fill_value=0)\n",
    "\n",
    "# Linear Regression Model\n",
    "lr = LinearRegression()\n",
    "\n",
    "# Fit model\n",
    "lr.fit(X_train, y_train)\n",
    "\n",
    "# Predict\n",
    "# prediction = lr.predict(X_test)\n",
    "\n",
    "# Actual values\n",
    "actual = y_test\n",
    "\n",
    "# Train and test scores\n",
    "train_score_lr = lr.score(X_train, y_train)\n",
    "test_score_lr = lr.score(X_test, y_test)\n",
    "\n",
    "print(\"The train score for lr model is {}\".format(train_score_lr))\n",
    "print(\"The test score for lr model is {}\".format(test_score_lr))\n",
    "\n",
    "# Ridge Regression Model\n",
    "ridgeReg = Ridge(alpha=10)\n",
    "\n",
    "ridgeReg.fit(X_train, y_train)\n",
    "\n",
    "# Train and test scores for ridge regression\n",
    "train_score_ridge = ridgeReg.score(X_train, y_train)\n",
    "test_score_ridge = ridgeReg.score(X_test, y_test)\n",
    "\n",
    "print(\"\\nRidge Model............................................\\n\")\n",
    "print(\"The train score for ridge model is {}\".format(train_score_ridge))\n",
    "print(\"The test score for ridge model is {}\".format(test_score_ridge))\n",
    "\n",
    "# Predictions\n",
    "lr_preds = lr.predict(X_test)\n",
    "ridge_preds = ridgeReg.predict(X_test)\n",
    "\n",
    "# RMSE calculations\n",
    "rmse_lr = np.sqrt(mean_squared_error(y_test, lr_preds))\n",
    "rmse_ridge = np.sqrt(mean_squared_error(y_test, ridge_preds))\n",
    "\n",
    "print(\"\\nRMSE for Linear Regression: {}\".format(rmse_lr))\n",
    "print(\"RMSE for Ridge Regression: {}\".format(rmse_ridge))"
   ]
  },
  {
   "cell_type": "code",
   "execution_count": 147,
   "id": "71b35c63-1333-42ef-a396-4622c4fe3bdd",
   "metadata": {},
   "outputs": [
    {
     "data": {
      "text/plain": [
       "count    1196.000000\n",
       "mean      152.811037\n",
       "std       212.557866\n",
       "min         0.000000\n",
       "25%         0.000000\n",
       "50%        16.000000\n",
       "75%       286.250000\n",
       "max       753.000000\n",
       "Name: total_pa, dtype: float64"
      ]
     },
     "execution_count": 147,
     "metadata": {},
     "output_type": "execute_result"
    }
   ],
   "source": [
    "X_all['total_pa'].describe()"
   ]
  },
  {
   "cell_type": "code",
   "execution_count": 149,
   "id": "686e558a-2044-471d-aa8a-cdc19ab9174d",
   "metadata": {},
   "outputs": [
    {
     "name": "stdout",
     "output_type": "stream",
     "text": [
      "Best alpha from GridSearchCV: 1.0\n",
      "RMSE (Train) for best alpha: 119.37949091179561\n",
      "RMSE (Test) for best alpha: 133.91821550808936\n"
     ]
    }
   ],
   "source": [
    "from sklearn.linear_model import Lasso\n",
    "from sklearn.model_selection import GridSearchCV\n",
    "from sklearn.metrics import mean_squared_error\n",
    "import numpy as np\n",
    "\n",
    "# Initialize Lasso model\n",
    "lasso = Lasso()\n",
    "\n",
    "# Define the hyperparameter grid to search over\n",
    "param_grid = {'alpha': np.logspace(-6, 6, 13)}  # Search over a range of alpha values from 1e-6 to 1e6\n",
    "\n",
    "# Set up GridSearchCV\n",
    "grid_search = GridSearchCV(estimator=lasso, param_grid=param_grid, cv=5, scoring='neg_root_mean_squared_error')\n",
    "\n",
    "# Fit the grid search\n",
    "grid_search.fit(X_train, y_train)\n",
    "\n",
    "# Get the best alpha\n",
    "best_alpha = grid_search.best_params_['alpha']\n",
    "print(f\"Best alpha from GridSearchCV: {best_alpha}\")\n",
    "\n",
    "# Get the best model\n",
    "best_lasso_model = grid_search.best_estimator_\n",
    "\n",
    "# Evaluate the model\n",
    "y_train_pred = best_lasso_model.predict(X_train)\n",
    "y_test_pred = best_lasso_model.predict(X_test)\n",
    "\n",
    "# RMSE\n",
    "rmse_train = np.sqrt(mean_squared_error(y_train, y_train_pred))\n",
    "rmse_test = np.sqrt(mean_squared_error(y_test, y_test_pred))\n",
    "\n",
    "print(f\"RMSE (Train) for best alpha: {rmse_train}\")\n",
    "print(f\"RMSE (Test) for best alpha: {rmse_test}\")"
   ]
  },
  {
   "cell_type": "code",
   "execution_count": 150,
   "id": "e85c68e5-b571-4bd6-ae95-d006323c6d11",
   "metadata": {},
   "outputs": [
    {
     "name": "stdout",
     "output_type": "stream",
     "text": [
      "0.6771620198510533\n",
      "0.6205416346137107\n"
     ]
    }
   ],
   "source": [
    "r2_train = r2_score(y_train, y_train_pred)\n",
    "r2_test = r2_score(y_test, y_test_pred)\n",
    "\n",
    "print(r2_train)\n",
    "print(r2_test)"
   ]
  },
  {
   "cell_type": "code",
   "execution_count": 153,
   "id": "c6ab5a9d-0df0-428c-b3d1-e72717ce5a32",
   "metadata": {},
   "outputs": [
    {
     "name": "stdout",
     "output_type": "stream",
     "text": [
      "\n",
      "Feature Importances:\n",
      "                    Feature  Importance\n",
      "17             total_pa_1ya  151.818405\n",
      "30  primary_position_1ya_1b  -53.311356\n",
      "18                      age  -32.978477\n",
      "27   primary_position_2ya_p  -19.774583\n",
      "8              total_pa_2ya   15.813065\n",
      "14        k_rate_batter_1ya  -15.392034\n",
      "31  primary_position_1ya_2b  -15.260779\n",
      "13                  iso_1ya   15.131035\n",
      "5         k_rate_batter_2ya  -14.976076\n",
      "21  primary_position_2ya_2b   -9.299564\n",
      "7     batter_avg_exp_ba_2ya   -8.831076\n",
      "40                   bats_L    8.305268\n",
      "2                   obp_2ya   -6.823384\n",
      "34   primary_position_1ya_c   -6.758282\n",
      "41                   bats_R   -2.686728\n",
      "6        bb_rate_batter_2ya    2.191959\n",
      "1                   avg_2ya    1.859122\n",
      "0          stolen_bases_2ya   -1.289722\n",
      "15       bb_rate_batter_1ya    0.960434\n",
      "22  primary_position_2ya_3b    0.894498\n",
      "28  primary_position_2ya_rf    0.699935\n",
      "39  primary_position_1ya_ss    0.055284\n",
      "12                  ops_1ya    0.000000\n",
      "3                   ops_2ya    0.000000\n",
      "38  primary_position_1ya_rf   -0.000000\n",
      "37   primary_position_1ya_p    0.000000\n",
      "36  primary_position_1ya_lf    0.000000\n",
      "35  primary_position_1ya_cf    0.000000\n",
      "4                   iso_2ya   -0.000000\n",
      "33  primary_position_1ya_DH   -0.000000\n",
      "32  primary_position_1ya_3b    0.000000\n",
      "19        years_after_debut    0.000000\n",
      "20  primary_position_2ya_1b   -0.000000\n",
      "29  primary_position_2ya_ss   -0.000000\n",
      "16    batter_avg_exp_ba_1ya   -0.000000\n",
      "10                  avg_1ya    0.000000\n",
      "26  primary_position_2ya_lf   -0.000000\n",
      "25  primary_position_2ya_cf    0.000000\n",
      "24   primary_position_2ya_c   -0.000000\n",
      "23  primary_position_2ya_DH   -0.000000\n",
      "11                  obp_1ya    0.000000\n",
      "9          stolen_bases_1ya    0.000000\n"
     ]
    }
   ],
   "source": [
    "# Feature importance: Get the coefficients\n",
    "feature_importance = best_lasso_model.coef_\n",
    "\n",
    "# Create a DataFrame to display feature importance with their corresponding names (if available)\n",
    "import pandas as pd\n",
    "importance_df = pd.DataFrame({\n",
    "    'Feature': X_train.columns,  # Use your feature names here\n",
    "    'Importance': feature_importance\n",
    "})\n",
    "\n",
    "# Sort by importance (absolute value)\n",
    "importance_df['Abs_Importance'] = importance_df['Importance'].abs()\n",
    "importance_df = importance_df.sort_values(by='Abs_Importance', ascending=False)\n",
    "\n",
    "print(\"\\nFeature Importances:\")\n",
    "print(importance_df[['Feature', 'Importance']])"
   ]
  },
  {
   "cell_type": "code",
   "execution_count": 155,
   "id": "663f3726-d29d-474b-8ae2-107047975f87",
   "metadata": {},
   "outputs": [
    {
     "name": "stdout",
     "output_type": "stream",
     "text": [
      "      Actual   Predicted\n",
      "694    187.0  180.369434\n",
      "1133   180.0  397.304889\n",
      "1131     0.0    0.566161\n",
      "567    589.0  446.657674\n",
      "976    690.0  567.767036\n",
      "357      0.0  -46.103296\n",
      "913    345.0  180.866052\n",
      "1153   255.0  145.396189\n",
      "969      0.0  107.272084\n",
      "839     46.0  131.446844\n",
      "1070    65.0  134.731814\n",
      "983    277.0  115.295760\n",
      "0       60.0  219.133575\n",
      "1058    71.0  116.338243\n",
      "398    141.0  115.295760\n",
      "384    524.0  466.625869\n",
      "113     90.0  157.066332\n",
      "114    250.0  410.680919\n",
      "424    169.0   93.755861\n",
      "522    610.0  551.175498\n",
      "139    337.0  282.384073\n",
      "326      4.0   91.069133\n",
      "741    292.0  299.863654\n",
      "862     96.0  248.559545\n",
      "505     40.0  115.295760\n",
      "836    123.0  250.525325\n",
      "493      0.0   66.479574\n",
      "52     330.0  364.731038\n",
      "207      0.0   51.523409\n",
      "479    717.0  576.756427\n",
      "872    401.0  223.854555\n",
      "833    732.0  473.802109\n",
      "171      0.0   40.392729\n",
      "244      0.0  -12.425725\n",
      "416    617.0  501.711323\n",
      "869      0.0   33.129505\n",
      "811    355.0  262.585587\n",
      "831     41.0   91.069133\n",
      "958    314.0  339.119747\n",
      "1130    80.0  367.936495\n",
      "611    384.0  196.807969\n",
      "248      0.0   -5.990307\n",
      "438      0.0   47.838222\n",
      "648    330.0  248.400445\n",
      "48     300.0  260.729866\n",
      "852      0.0  195.444850\n",
      "997      0.0  133.595884\n",
      "44     158.0  154.483931\n",
      "426      0.0   33.381369\n",
      "1037   554.0  492.797212\n"
     ]
    }
   ],
   "source": [
    "results_df = pd.DataFrame({\n",
    "    'Actual': y_test,\n",
    "    'Predicted': y_test_pred\n",
    "})\n",
    "\n",
    "# Display the first few rows of the results\n",
    "print(results_df.head(50))"
   ]
  },
  {
   "cell_type": "code",
   "execution_count": 157,
   "id": "148a17fb-80a9-43ad-855d-5d76bcc14186",
   "metadata": {},
   "outputs": [
    {
     "data": {
      "text/plain": [
       "primary_position_2ya           cf\n",
       "stolen_bases_2ya              0.0\n",
       "avg_2ya                  0.280528\n",
       "obp_2ya                  0.331288\n",
       "ops_2ya                  0.684424\n",
       "iso_2ya                  0.072607\n",
       "k_rate_batter_2ya         0.19802\n",
       "bb_rate_batter_2ya       0.069307\n",
       "batter_avg_exp_ba_2ya    0.310109\n",
       "total_pa_2ya                331.0\n",
       "primary_position_1ya           cf\n",
       "stolen_bases_1ya              0.0\n",
       "avg_1ya                  0.297082\n",
       "obp_1ya                  0.348894\n",
       "ops_1ya                  0.728205\n",
       "iso_1ya                  0.082228\n",
       "k_rate_batter_1ya        0.153846\n",
       "bb_rate_batter_1ya       0.068966\n",
       "batter_avg_exp_ba_1ya    0.326715\n",
       "total_pa_1ya                409.0\n",
       "total_pa                     80.0\n",
       "age                          29.0\n",
       "years_after_debut             4.0\n",
       "bats                            R\n",
       "Name: 1130, dtype: object"
      ]
     },
     "execution_count": 157,
     "metadata": {},
     "output_type": "execute_result"
    }
   ],
   "source": [
    "X_all.loc[1130]"
   ]
  },
  {
   "cell_type": "code",
   "execution_count": null,
   "id": "a0836352-e097-4e73-820a-e61410939fb3",
   "metadata": {},
   "outputs": [],
   "source": []
  }
 ],
 "metadata": {
  "kernelspec": {
   "display_name": "Python [conda env:base] *",
   "language": "python",
   "name": "conda-base-py"
  },
  "language_info": {
   "codemirror_mode": {
    "name": "ipython",
    "version": 3
   },
   "file_extension": ".py",
   "mimetype": "text/x-python",
   "name": "python",
   "nbconvert_exporter": "python",
   "pygments_lexer": "ipython3",
   "version": "3.12.7"
  }
 },
 "nbformat": 4,
 "nbformat_minor": 5
}
